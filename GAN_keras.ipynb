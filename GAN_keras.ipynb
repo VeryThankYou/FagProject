{
 "cells": [
  {
   "attachments": {},
   "cell_type": "markdown",
   "metadata": {},
   "source": [
    "# Imports"
   ]
  },
  {
   "cell_type": "code",
   "execution_count": 16,
   "metadata": {},
   "outputs": [
    {
     "name": "stdout",
     "output_type": "stream",
     "text": [
      "Python Platform: macOS-13.3.1-arm64-arm-64bit\n",
      "Tensor Flow Version: 2.12.0\n",
      "Keras Version: 2.12.0\n",
      "\n",
      "Python 3.10.11 | packaged by conda-forge | (main, May 10 2023, 19:01:19) [Clang 14.0.6 ]\n",
      "Pandas 2.0.2\n",
      "Scikit-Learn 1.2.2\n",
      "GPU is available\n"
     ]
    }
   ],
   "source": [
    "# What version of Python do you have?\n",
    "import sys\n",
    "\n",
    "import tensorflow.keras\n",
    "import pandas as pd\n",
    "import sklearn as sk\n",
    "import tensorflow as tf\n",
    "import platform\n",
    "\n",
    "print(f\"Python Platform: {platform.platform()}\")\n",
    "print(f\"Tensor Flow Version: {tf.__version__}\")\n",
    "print(f\"Keras Version: {tensorflow.keras.__version__}\")\n",
    "print()\n",
    "print(f\"Python {sys.version}\")\n",
    "print(f\"Pandas {pd.__version__}\")\n",
    "print(f\"Scikit-Learn {sk.__version__}\")\n",
    "gpu = len(tf.config.list_physical_devices('GPU'))>0\n",
    "print(\"GPU is\", \"available\" if gpu else \"NOT AVAILABLE\")"
   ]
  },
  {
   "cell_type": "code",
   "execution_count": 33,
   "metadata": {},
   "outputs": [
    {
     "name": "stdout",
     "output_type": "stream",
     "text": [
      "GPU found\n"
     ]
    }
   ],
   "source": [
    "tf.config.set_visible_devices([], 'GPU')\n",
    "\n",
    "os.environ['CUDA_VISIBLE_DEVICES'] = '-1'\n",
    "\n",
    "if tf.test.gpu_device_name():\n",
    "    print('GPU found')\n",
    "else:\n",
    "    print(\"No GPU found\")"
   ]
  },
  {
   "cell_type": "code",
   "execution_count": 34,
   "metadata": {},
   "outputs": [
    {
     "name": "stdout",
     "output_type": "stream",
     "text": [
      "Num GPUs Available:  1\n"
     ]
    }
   ],
   "source": [
    "print(\"Num GPUs Available: \", len(tf.config.list_physical_devices('GPU')))"
   ]
  },
  {
   "cell_type": "code",
   "execution_count": 19,
   "metadata": {},
   "outputs": [],
   "source": [
    "from tensorflow import keras\n",
    "from tensorflow.keras import layers\n",
    "\n",
    "from tensorflow_docs.vis import embed\n",
    "import matplotlib.pyplot as plt\n",
    "import tensorflow as tf\n",
    "import numpy as np\n",
    "import pandas as pd\n",
    "import imageio\n"
   ]
  },
  {
   "cell_type": "code",
   "execution_count": 20,
   "metadata": {},
   "outputs": [],
   "source": [
    "from PIL import Image"
   ]
  },
  {
   "attachments": {},
   "cell_type": "markdown",
   "metadata": {},
   "source": [
    "# Constants and hyperparameters"
   ]
  },
  {
   "cell_type": "code",
   "execution_count": 21,
   "metadata": {},
   "outputs": [],
   "source": [
    "batch_size = 64\n",
    "num_channels = 1\n",
    "num_classes = 10\n",
    "image_size = 28\n",
    "latent_dim = 128"
   ]
  },
  {
   "attachments": {},
   "cell_type": "markdown",
   "metadata": {},
   "source": [
    "# Load data"
   ]
  },
  {
   "cell_type": "code",
   "execution_count": 22,
   "metadata": {},
   "outputs": [
    {
     "name": "stdout",
     "output_type": "stream",
     "text": [
      "Training X MNIST: (60000, 28, 28)\n",
      "Training Y MNIST: (60000,)\n",
      "Test X MNIST: (10000, 28, 28)\n",
      "Test Y MNIST: (10000,)\n",
      "All X MNIST: (70000, 28, 28)\n",
      "All Y MNIST: (70000,)\n"
     ]
    }
   ],
   "source": [
    "(x_train, y_train), (x_test, y_test) = keras.datasets.mnist.load_data()\n",
    "all_digits = np.concatenate([x_train, x_test])\n",
    "all_labels = np.concatenate([y_train, y_test])\n",
    "print(\"Training X MNIST: \" + str(x_train.shape))\n",
    "print(\"Training Y MNIST: \" + str(y_train.shape))\n",
    "print(\"Test X MNIST: \" + str(x_test.shape))\n",
    "print(\"Test Y MNIST: \" + str(y_test.shape))\n",
    "print(\"All X MNIST: \" + str(all_digits.shape))\n",
    "print(\"All Y MNIST: \" + str(all_labels.shape))"
   ]
  },
  {
   "cell_type": "code",
   "execution_count": 23,
   "metadata": {},
   "outputs": [],
   "source": [
    "import os\n",
    "os.chdir(\"/Volumes/Seagate Expansion Drive/Clara/DTU/Fagprojekt\")"
   ]
  },
  {
   "cell_type": "code",
   "execution_count": 24,
   "metadata": {},
   "outputs": [],
   "source": [
    "submissions = pd.read_csv('submissions.csv')"
   ]
  },
  {
   "cell_type": "code",
   "execution_count": 25,
   "metadata": {},
   "outputs": [],
   "source": [
    "os.chdir(\"/Volumes/Seagate Expansion Drive/Clara/DTU/Fagprojekt/resized_images\")\n",
    "data = submissions[0:1000]\n",
    "images = np.zeros((len(data),600,600))\n",
    "for i, id in enumerate(data[\"ID\"][0:2]):\n",
    "    image = np.asarray(Image.open('EarthPorn-' + id + '.png').convert('L'))\n",
    "    images[i] = image"
   ]
  },
  {
   "cell_type": "code",
   "execution_count": 26,
   "metadata": {},
   "outputs": [
    {
     "data": {
      "text/plain": [
       "array([[[165., 165., 165., ..., 171., 171., 171.],\n",
       "        [165., 165., 165., ..., 171., 171., 171.],\n",
       "        [165., 165., 165., ..., 170., 170., 170.],\n",
       "        ...,\n",
       "        [100., 124., 140., ..., 110., 100.,  97.],\n",
       "        [120., 135., 145., ..., 111., 100.,  92.],\n",
       "        [130., 143., 151., ..., 114., 101.,  92.]],\n",
       "\n",
       "       [[134., 135., 137., ..., 133., 133., 133.],\n",
       "        [134., 135., 137., ..., 136., 137., 137.],\n",
       "        [133., 135., 137., ..., 140., 141., 143.],\n",
       "        ...,\n",
       "        [ 15.,  14.,  20., ...,   5.,   7.,   5.],\n",
       "        [ 21.,  14.,  13., ...,   6.,   7.,   5.],\n",
       "        [ 15.,  14.,  13., ...,   8.,   8.,   6.]],\n",
       "\n",
       "       [[  0.,   0.,   0., ...,   0.,   0.,   0.],\n",
       "        [  0.,   0.,   0., ...,   0.,   0.,   0.],\n",
       "        [  0.,   0.,   0., ...,   0.,   0.,   0.],\n",
       "        ...,\n",
       "        [  0.,   0.,   0., ...,   0.,   0.,   0.],\n",
       "        [  0.,   0.,   0., ...,   0.,   0.,   0.],\n",
       "        [  0.,   0.,   0., ...,   0.,   0.,   0.]],\n",
       "\n",
       "       ...,\n",
       "\n",
       "       [[  0.,   0.,   0., ...,   0.,   0.,   0.],\n",
       "        [  0.,   0.,   0., ...,   0.,   0.,   0.],\n",
       "        [  0.,   0.,   0., ...,   0.,   0.,   0.],\n",
       "        ...,\n",
       "        [  0.,   0.,   0., ...,   0.,   0.,   0.],\n",
       "        [  0.,   0.,   0., ...,   0.,   0.,   0.],\n",
       "        [  0.,   0.,   0., ...,   0.,   0.,   0.]],\n",
       "\n",
       "       [[  0.,   0.,   0., ...,   0.,   0.,   0.],\n",
       "        [  0.,   0.,   0., ...,   0.,   0.,   0.],\n",
       "        [  0.,   0.,   0., ...,   0.,   0.,   0.],\n",
       "        ...,\n",
       "        [  0.,   0.,   0., ...,   0.,   0.,   0.],\n",
       "        [  0.,   0.,   0., ...,   0.,   0.,   0.],\n",
       "        [  0.,   0.,   0., ...,   0.,   0.,   0.]],\n",
       "\n",
       "       [[  0.,   0.,   0., ...,   0.,   0.,   0.],\n",
       "        [  0.,   0.,   0., ...,   0.,   0.,   0.],\n",
       "        [  0.,   0.,   0., ...,   0.,   0.,   0.],\n",
       "        ...,\n",
       "        [  0.,   0.,   0., ...,   0.,   0.,   0.],\n",
       "        [  0.,   0.,   0., ...,   0.,   0.,   0.],\n",
       "        [  0.,   0.,   0., ...,   0.,   0.,   0.]]])"
      ]
     },
     "execution_count": 26,
     "metadata": {},
     "output_type": "execute_result"
    }
   ],
   "source": [
    "images"
   ]
  },
  {
   "cell_type": "code",
   "execution_count": 35,
   "metadata": {},
   "outputs": [
    {
     "name": "stdout",
     "output_type": "stream",
     "text": [
      "         ID       Name  Number of comments  Score  \\\n",
      "0    90x9kv  t3_90x9kv                   3     19   \n",
      "1    90x5xp  t3_90x5xp                  48   2218   \n",
      "2    90x3a5  t3_90x3a5                   0     39   \n",
      "3    90x0u5  t3_90x0u5                   2     40   \n",
      "4    90wupm  t3_90wupm                   6    139   \n",
      "..      ...        ...                 ...    ...   \n",
      "995  8ym4lm  t3_8ym4lm                   0     27   \n",
      "996  8ym4aq  t3_8ym4aq                   0     33   \n",
      "997  8ym1ie  t3_8ym1ie                   6    245   \n",
      "998  8ylvqa  t3_8ylvqa                   0     26   \n",
      "999  8ylv0l  t3_8ylv0l                   0    136   \n",
      "\n",
      "                                     Url  Upvote Ratio  \n",
      "0        https://i.imgur.com/9V00cSu.jpg          0.89  \n",
      "1    https://i.redd.it/ka3he5wdjhb11.jpg          0.99  \n",
      "2    https://i.redd.it/i9wqyn3mfhb11.jpg          0.87  \n",
      "3        https://i.imgur.com/G6mgKPd.jpg          0.85  \n",
      "4    https://i.redd.it/0z88hnag6hb11.jpg          0.98  \n",
      "..                                   ...           ...  \n",
      "995  https://i.redd.it/w149mybm6r911.jpg          0.85  \n",
      "996  https://i.redd.it/n3c1h8xz5r911.jpg          0.93  \n",
      "997  https://i.redd.it/mbcye9du4r911.jpg          0.98  \n",
      "998  https://i.redd.it/5r6ul4w61r911.jpg          0.86  \n",
      "999  https://i.redd.it/s6s5taw41r911.jpg          0.95  \n",
      "\n",
      "[1000 rows x 6 columns]\n"
     ]
    }
   ],
   "source": [
    "with tf.device('/CPU:0'):\n",
    "    print(data)"
   ]
  },
  {
   "cell_type": "code",
   "execution_count": 36,
   "metadata": {},
   "outputs": [],
   "source": [
    "import os\n",
    "os.environ[\"CUDA_VISIBLE_DEVICES\"]=\"-1\"    \n",
    "import tensorflow as tf"
   ]
  },
  {
   "cell_type": "code",
   "execution_count": null,
   "metadata": {},
   "outputs": [],
   "source": [
    "data"
   ]
  }
 ],
 "metadata": {
  "kernelspec": {
   "display_name": "Python 3.10 (tensorflow)",
   "language": "python",
   "name": "tensorflow"
  },
  "language_info": {
   "codemirror_mode": {
    "name": "ipython",
    "version": 3
   },
   "file_extension": ".py",
   "mimetype": "text/x-python",
   "name": "python",
   "nbconvert_exporter": "python",
   "pygments_lexer": "ipython3",
   "version": "3.10.11"
  },
  "orig_nbformat": 4
 },
 "nbformat": 4,
 "nbformat_minor": 2
}
