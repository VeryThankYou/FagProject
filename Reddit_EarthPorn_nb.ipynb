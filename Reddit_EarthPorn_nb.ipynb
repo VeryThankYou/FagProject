{
 "cells": [
  {
   "cell_type": "markdown",
   "metadata": {},
   "source": [
    "## Requirements"
   ]
  },
  {
   "cell_type": "code",
   "execution_count": 77,
   "metadata": {},
   "outputs": [],
   "source": [
    "from distutils.filelist import findall\n",
    "import pandas as pd\n",
    "from pmaw import PushshiftAPI\n",
    "import datetime as dt\n",
    "import os\n",
    "import requests\n",
    "import re\n",
    "from bs4 import BeautifulSoup as bs\n",
    "import spacy_udpipe"
   ]
  },
  {
   "cell_type": "markdown",
   "metadata": {},
   "source": [
    "## Retreiving posts"
   ]
  },
  {
   "cell_type": "markdown",
   "metadata": {},
   "source": [
    "#### Load Pushshift"
   ]
  },
  {
   "cell_type": "code",
   "execution_count": 78,
   "metadata": {},
   "outputs": [],
   "source": [
    "api = PushshiftAPI()"
   ]
  },
  {
   "cell_type": "markdown",
   "metadata": {},
   "source": [
    "#### Search parameters\n"
   ]
  },
  {
   "cell_type": "markdown",
   "metadata": {},
   "source": [
    "##### Specify time frame"
   ]
  },
  {
   "cell_type": "code",
   "execution_count": 79,
   "metadata": {},
   "outputs": [],
   "source": [
    "start_time = int(dt.datetime.timestamp(dt.datetime.strptime('2011-02-14 00:00:00', '%Y-%m-%d %H:%M:%S'))) #time EarthPorn was created\n",
    "end_time = int(dt.datetime.timestamp(dt.datetime.strptime('2022-08-01 00:00:00', '%Y-%m-%d %H:%M:%S')))\n",
    "current_time = int(dt.datetime.timestamp(dt.datetime.now()))\n",
    "\n",
    "# Create string specifying time frame that can be used for file name when saving data as csv\n",
    "search_time = '20110214-20220816' "
   ]
  },
  {
   "cell_type": "code",
   "execution_count": 80,
   "metadata": {},
   "outputs": [
    {
     "name": "stdout",
     "output_type": "stream",
     "text": [
      "1659304800\n"
     ]
    }
   ],
   "source": [
    "print(end_time)"
   ]
  },
  {
   "cell_type": "markdown",
   "metadata": {},
   "source": [
    "##### Specify subreddit and search limit"
   ]
  },
  {
   "cell_type": "code",
   "execution_count": 81,
   "metadata": {},
   "outputs": [],
   "source": [
    "# Set subreddit and limit\n",
    "subreddit = 'EarthPorn'\n",
    "limit = 500"
   ]
  },
  {
   "cell_type": "markdown",
   "metadata": {},
   "source": [
    "#### Query posts from pushshift using search_submissions with default parameters"
   ]
  },
  {
   "cell_type": "markdown",
   "metadata": {},
   "source": [
    "Default parameters:  \n",
    "max_ids_per_request = 500 (max)  \n",
    "max_results_per_request = 100 (max)  \n",
    "mem_safe = False -> stores responses in cache during operation if True  \n",
    "safe_exit = False -> will safely exit if interupted by storing current responses and requests in the cache if True  \n",
    "cache_dir -> path to cache responses in when mem_safe or safe_exit is enabled  "
   ]
  },
  {
   "cell_type": "code",
   "execution_count": 82,
   "metadata": {},
   "outputs": [
    {
     "name": "stdout",
     "output_type": "stream",
     "text": [
      "Retrieved 500 posts from Pushshift\n"
     ]
    }
   ],
   "source": [
    "posts = api.search_submissions(subreddit=subreddit, limit=limit)\n",
    "print(f'Retrieved {len(posts)} posts from Pushshift')"
   ]
  },
  {
   "cell_type": "markdown",
   "metadata": {},
   "source": [
    "#### Create data frame for posts"
   ]
  },
  {
   "cell_type": "code",
   "execution_count": 83,
   "metadata": {},
   "outputs": [],
   "source": [
    "post_list = [post for post in posts]\n",
    "posts_df = pd.DataFrame(post_list)"
   ]
  },
  {
   "cell_type": "code",
   "execution_count": 84,
   "metadata": {},
   "outputs": [
    {
     "name": "stdout",
     "output_type": "stream",
     "text": [
      "500\n",
      "496\n"
     ]
    }
   ],
   "source": [
    "# Test amount of duplicates\n",
    "test = posts_df[\"url\"]\n",
    "print(len(test))\n",
    "print(len(test.drop_duplicates()))"
   ]
  },
  {
   "cell_type": "code",
   "execution_count": 85,
   "metadata": {},
   "outputs": [
    {
     "name": "stdout",
     "output_type": "stream",
     "text": [
      "Downloading https://i.redd.it/0p41a8xt1e1a1.jpg to /Users/clarasofiechristiansen/Documents/Clara/DTU/Data_Fagprojekt/Data/EarthPorn_z1e7kd.jpg\n",
      "Downloading https://i.redd.it/d680tr8xlf1a1.jpg to /Users/clarasofiechristiansen/Documents/Clara/DTU/Data_Fagprojekt/Data/EarthPorn_z1e66r.jpg\n",
      "Downloading https://i.redd.it/8ess1pn3sd1a1.jpg to /Users/clarasofiechristiansen/Documents/Clara/DTU/Data_Fagprojekt/Data/EarthPorn_z1cicg.jpg\n",
      "Downloading https://i.redd.it/vhq3nfw76f1a1.jpg to /Users/clarasofiechristiansen/Documents/Clara/DTU/Data_Fagprojekt/Data/EarthPorn_z1bzmz.jpg\n",
      "Downloading https://i.redd.it/iow0t7dikd1a1.jpg to /Users/clarasofiechristiansen/Documents/Clara/DTU/Data_Fagprojekt/Data/EarthPorn_z1bfc2.jpg\n",
      "Downloading https://i.redd.it/hz7nt84a1f1a1.jpg to /Users/clarasofiechristiansen/Documents/Clara/DTU/Data_Fagprojekt/Data/EarthPorn_z1b8xx.jpg\n",
      "Downloading https://i.redd.it/pxc939gs0f1a1.jpg to /Users/clarasofiechristiansen/Documents/Clara/DTU/Data_Fagprojekt/Data/EarthPorn_z1b6dg.jpg\n",
      "Downloading https://i.redd.it/23gxcby9ze1a1.jpg to /Users/clarasofiechristiansen/Documents/Clara/DTU/Data_Fagprojekt/Data/EarthPorn_z1ay9t.jpg\n",
      "Downloading https://i.redd.it/bjuwu6n1hd1a1.jpg to /Users/clarasofiechristiansen/Documents/Clara/DTU/Data_Fagprojekt/Data/EarthPorn_z1avqf.jpg\n",
      "Downloading https://i.redd.it/44562vi6gd1a1.jpg to /Users/clarasofiechristiansen/Documents/Clara/DTU/Data_Fagprojekt/Data/EarthPorn_z1ari1.jpg\n",
      "Downloading https://i.redd.it/pvan02hfed1a1.jpg to /Users/clarasofiechristiansen/Documents/Clara/DTU/Data_Fagprojekt/Data/EarthPorn_z1amyt.jpg\n",
      "Downloading https://i.redd.it/vf256pnefd1a1.jpg to /Users/clarasofiechristiansen/Documents/Clara/DTU/Data_Fagprojekt/Data/EarthPorn_z1am7t.jpg\n",
      "Downloading https://i.redd.it/vxdngzw9we1a1.png to /Users/clarasofiechristiansen/Documents/Clara/DTU/Data_Fagprojekt/Data/EarthPorn_z1aiot.jpg\n",
      "Downloading https://i.redd.it/1sa7z04cve1a1.jpg to /Users/clarasofiechristiansen/Documents/Clara/DTU/Data_Fagprojekt/Data/EarthPorn_z1adnc.jpg\n",
      "Downloading https://i.redd.it/xmhv2lvlue1a1.jpg to /Users/clarasofiechristiansen/Documents/Clara/DTU/Data_Fagprojekt/Data/EarthPorn_z1a9qs.jpg\n",
      "Downloading https://i.redd.it/glp9fzrabd1a1.jpg to /Users/clarasofiechristiansen/Documents/Clara/DTU/Data_Fagprojekt/Data/EarthPorn_z1a0o0.jpg\n",
      "Downloading https://i.redd.it/2kyed3core1a1.jpg to /Users/clarasofiechristiansen/Documents/Clara/DTU/Data_Fagprojekt/Data/EarthPorn_z19uea.jpg\n",
      "Downloading https://i.imgur.com/bbnufrB.jpg to /Users/clarasofiechristiansen/Documents/Clara/DTU/Data_Fagprojekt/Data/EarthPorn_z19szu.jpg\n",
      "Downloading https://i.redd.it/494ri7pfpe1a1.jpg to /Users/clarasofiechristiansen/Documents/Clara/DTU/Data_Fagprojekt/Data/EarthPorn_z19j9c.jpg\n",
      "Downloading https://i.redd.it/z2y5ebua5d1a1.png to /Users/clarasofiechristiansen/Documents/Clara/DTU/Data_Fagprojekt/Data/EarthPorn_z19g4n.jpg\n",
      "Downloading https://i.redd.it/e1vn2j3b1d1a1.jpg to /Users/clarasofiechristiansen/Documents/Clara/DTU/Data_Fagprojekt/Data/EarthPorn_z18lm7.jpg\n",
      "Downloading https://i.redd.it/outonid31d1a1.jpg to /Users/clarasofiechristiansen/Documents/Clara/DTU/Data_Fagprojekt/Data/EarthPorn_z18kvb.jpg\n",
      "Downloading https://i.redd.it/u8fw02hswc1a1.jpg to /Users/clarasofiechristiansen/Documents/Clara/DTU/Data_Fagprojekt/Data/EarthPorn_z17zcg.jpg\n",
      "Downloading https://i.redd.it/47jej4uqde1a1.jpg to /Users/clarasofiechristiansen/Documents/Clara/DTU/Data_Fagprojekt/Data/EarthPorn_z17v0m.jpg\n",
      "Downloading https://i.redd.it/axhwy875qc1a1.jpg to /Users/clarasofiechristiansen/Documents/Clara/DTU/Data_Fagprojekt/Data/EarthPorn_z16yon.jpg\n",
      "Downloading https://i.redd.it/hd5ancfv6e1a1.jpg to /Users/clarasofiechristiansen/Documents/Clara/DTU/Data_Fagprojekt/Data/EarthPorn_z16ui4.jpg\n",
      "Downloading https://i.redd.it/o5hrhktcnc1a1.jpg to /Users/clarasofiechristiansen/Documents/Clara/DTU/Data_Fagprojekt/Data/EarthPorn_z16kcr.jpg\n",
      "Downloading https://i.imgur.com/o60jQGR.jpg to /Users/clarasofiechristiansen/Documents/Clara/DTU/Data_Fagprojekt/Data/EarthPorn_z16ftm.jpg\n",
      "Downloading https://i.imgur.com/oskHj2R.jpg to /Users/clarasofiechristiansen/Documents/Clara/DTU/Data_Fagprojekt/Data/EarthPorn_z16eb6.jpg\n",
      "Downloading https://i.redd.it/hllo9ihl3e1a1.jpg to /Users/clarasofiechristiansen/Documents/Clara/DTU/Data_Fagprojekt/Data/EarthPorn_z16d7e.jpg\n",
      "Downloading https://i.redd.it/as4ovjidlc1a1.jpg to /Users/clarasofiechristiansen/Documents/Clara/DTU/Data_Fagprojekt/Data/EarthPorn_z16b2u.jpg\n",
      "Downloading https://i.redd.it/rz7mvt8j2e1a1.jpg to /Users/clarasofiechristiansen/Documents/Clara/DTU/Data_Fagprojekt/Data/EarthPorn_z167fl.jpg\n",
      "Downloading https://imgur.com/UZkyL6z.jpg to /Users/clarasofiechristiansen/Documents/Clara/DTU/Data_Fagprojekt/Data/EarthPorn_z162f4.jpg\n",
      "Downloading https://imgur.com/scruhPt.jpg to /Users/clarasofiechristiansen/Documents/Clara/DTU/Data_Fagprojekt/Data/EarthPorn_z1611c.jpg\n",
      "Downloading https://imgur.com/fxILNa1.jpg to /Users/clarasofiechristiansen/Documents/Clara/DTU/Data_Fagprojekt/Data/EarthPorn_z15vin.jpg\n",
      "Downloading https://imgur.com/eYv2yyN.jpg to /Users/clarasofiechristiansen/Documents/Clara/DTU/Data_Fagprojekt/Data/EarthPorn_z15t1e.jpg\n",
      "Downloading https://imgur.com/cEa40or.jpg to /Users/clarasofiechristiansen/Documents/Clara/DTU/Data_Fagprojekt/Data/EarthPorn_z15oaj.jpg\n",
      "Downloading https://i.redd.it/ai1vpyxlec1a1.jpg to /Users/clarasofiechristiansen/Documents/Clara/DTU/Data_Fagprojekt/Data/EarthPorn_z159dv.jpg\n",
      "Downloading https://i.redd.it/49es2akdec1a1.jpg to /Users/clarasofiechristiansen/Documents/Clara/DTU/Data_Fagprojekt/Data/EarthPorn_z158cc.jpg\n",
      "Downloading https://i.redd.it/ouo82ggfvd1a1.jpg to /Users/clarasofiechristiansen/Documents/Clara/DTU/Data_Fagprojekt/Data/EarthPorn_z155vt.jpg\n",
      "Downloading https://i.redd.it/ovwzr1q4vd1a1.jpg to /Users/clarasofiechristiansen/Documents/Clara/DTU/Data_Fagprojekt/Data/EarthPorn_z154lc.jpg\n",
      "Downloading https://i.redd.it/xo4f2nh3ud1a1.jpg to /Users/clarasofiechristiansen/Documents/Clara/DTU/Data_Fagprojekt/Data/EarthPorn_z14zlg.jpg\n",
      "Downloading https://i.redd.it/zo2msm9eac1a1.jpg to /Users/clarasofiechristiansen/Documents/Clara/DTU/Data_Fagprojekt/Data/EarthPorn_z14r5e.jpg\n",
      "Downloading https://i.redd.it/6aivnb99ac1a1.jpg to /Users/clarasofiechristiansen/Documents/Clara/DTU/Data_Fagprojekt/Data/EarthPorn_z14o0y.jpg\n",
      "Downloading https://i.redd.it/sinjz5ru7c1a1.jpg to /Users/clarasofiechristiansen/Documents/Clara/DTU/Data_Fagprojekt/Data/EarthPorn_z14es3.jpg\n",
      "Downloading https://i.redd.it/gqe4arshmd1a1.jpg to /Users/clarasofiechristiansen/Documents/Clara/DTU/Data_Fagprojekt/Data/EarthPorn_z13xuy.jpg\n",
      "Downloading https://i.redd.it/c3h77a1chd1a1.jpg to /Users/clarasofiechristiansen/Documents/Clara/DTU/Data_Fagprojekt/Data/EarthPorn_z138y1.jpg\n",
      "Downloading https://i.redd.it/pqfknluqwb1a1.jpg to /Users/clarasofiechristiansen/Documents/Clara/DTU/Data_Fagprojekt/Data/EarthPorn_z12ubh.jpg\n",
      "Downloading https://i.redd.it/fl9mw3vkvb1a1.jpg to /Users/clarasofiechristiansen/Documents/Clara/DTU/Data_Fagprojekt/Data/EarthPorn_z12ok7.jpg\n",
      "Downloading https://i.redd.it/12l2m4m5vb1a1.jpg to /Users/clarasofiechristiansen/Documents/Clara/DTU/Data_Fagprojekt/Data/EarthPorn_z12mdf.jpg\n",
      "Downloading https://i.redd.it/caq5lzn9tb1a1.jpg to /Users/clarasofiechristiansen/Documents/Clara/DTU/Data_Fagprojekt/Data/EarthPorn_z12e6o.jpg\n",
      "Downloading https://i.imgur.com/893yGF5.jpg to /Users/clarasofiechristiansen/Documents/Clara/DTU/Data_Fagprojekt/Data/EarthPorn_z11s4m.jpg\n",
      "Downloading https://i.redd.it/0sowgakd3d1a1.jpg to /Users/clarasofiechristiansen/Documents/Clara/DTU/Data_Fagprojekt/Data/EarthPorn_z11cym.jpg\n",
      "Downloading https://i.redd.it/uv19bnsp0d1a1.jpg to /Users/clarasofiechristiansen/Documents/Clara/DTU/Data_Fagprojekt/Data/EarthPorn_z10zss.jpg\n",
      "Downloading https://i.redd.it/2ced1wy3ib1a1.jpg to /Users/clarasofiechristiansen/Documents/Clara/DTU/Data_Fagprojekt/Data/EarthPorn_z10vpq.jpg\n",
      "Downloading https://i.redd.it/5yob1wcwhb1a1.jpg to /Users/clarasofiechristiansen/Documents/Clara/DTU/Data_Fagprojekt/Data/EarthPorn_z10upo.jpg\n",
      "Downloading https://i.redd.it/dfegwpt0wc1a1.jpg to /Users/clarasofiechristiansen/Documents/Clara/DTU/Data_Fagprojekt/Data/EarthPorn_z10ec2.jpg\n",
      "Downloading https://i.redd.it/a2cm4z53rc1a1.jpg to /Users/clarasofiechristiansen/Documents/Clara/DTU/Data_Fagprojekt/Data/EarthPorn_z0zrpk.jpg\n",
      "Downloading https://i.redd.it/w44whrgpqc1a1.jpg to /Users/clarasofiechristiansen/Documents/Clara/DTU/Data_Fagprojekt/Data/EarthPorn_z0zq1a.jpg\n",
      "Downloading https://i.redd.it/ektkwbny8b1a1.jpg to /Users/clarasofiechristiansen/Documents/Clara/DTU/Data_Fagprojekt/Data/EarthPorn_z0zosw.jpg\n",
      "Downloading https://i.redd.it/1fxnkciulc1a1.jpg to /Users/clarasofiechristiansen/Documents/Clara/DTU/Data_Fagprojekt/Data/EarthPorn_z0z4rp.jpg\n",
      "Downloading https://i.redd.it/38qwyxy5lc1a1.jpg to /Users/clarasofiechristiansen/Documents/Clara/DTU/Data_Fagprojekt/Data/EarthPorn_z0z1t6.jpg\n",
      "Downloading https://i.redd.it/6metox9u1b1a1.jpg to /Users/clarasofiechristiansen/Documents/Clara/DTU/Data_Fagprojekt/Data/EarthPorn_z0yw89.jpg\n",
      "Downloading https://i.redd.it/478sl1hxic1a1.jpg to /Users/clarasofiechristiansen/Documents/Clara/DTU/Data_Fagprojekt/Data/EarthPorn_z0ysfj.jpg\n",
      "Downloading https://i.redd.it/ki46ome8xa1a1.jpg to /Users/clarasofiechristiansen/Documents/Clara/DTU/Data_Fagprojekt/Data/EarthPorn_z0yd9i.jpg\n",
      "Downloading https://i.redd.it/71q52gh0bc1a1.jpg to /Users/clarasofiechristiansen/Documents/Clara/DTU/Data_Fagprojekt/Data/EarthPorn_z0xvwx.jpg\n",
      "Downloading https://i.redd.it/rv32ewk7sa1a1.jpg to /Users/clarasofiechristiansen/Documents/Clara/DTU/Data_Fagprojekt/Data/EarthPorn_z0xr1g.jpg\n",
      "Downloading https://i.redd.it/xxwn6mxzra1a1.jpg to /Users/clarasofiechristiansen/Documents/Clara/DTU/Data_Fagprojekt/Data/EarthPorn_z0xq6z.jpg\n",
      "Downloading https://i.redd.it/1tpjf8ck1c1a1.jpg to /Users/clarasofiechristiansen/Documents/Clara/DTU/Data_Fagprojekt/Data/EarthPorn_z0wvpa.jpg\n",
      "Downloading https://i.redd.it/ixeebhsc7a1a1.png to /Users/clarasofiechristiansen/Documents/Clara/DTU/Data_Fagprojekt/Data/EarthPorn_z0vmjf.jpg\n",
      "Downloading https://i.redd.it/ouevhhxujb1a1.jpg to /Users/clarasofiechristiansen/Documents/Clara/DTU/Data_Fagprojekt/Data/EarthPorn_z0v5au.jpg\n",
      "Downloading https://wibcomnow.blogspot.com/2022/10/one-step-brosse-1200w-3-en-1-lisseur.html to /Users/clarasofiechristiansen/Documents/Clara/DTU/Data_Fagprojekt/Data/EarthPorn_z0u1un.jpg\n",
      "Downloading https://i.redd.it/uzuk1hcxo91a1.jpg to /Users/clarasofiechristiansen/Documents/Clara/DTU/Data_Fagprojekt/Data/EarthPorn_z0ty8l.jpg\n",
      "Downloading https://i.redd.it/srlhlthu0b1a1.jpg to /Users/clarasofiechristiansen/Documents/Clara/DTU/Data_Fagprojekt/Data/EarthPorn_z0tgfo.jpg\n",
      "Downloading https://i.redd.it/syj15lstza1a1.jpg to /Users/clarasofiechristiansen/Documents/Clara/DTU/Data_Fagprojekt/Data/EarthPorn_z0tdws.jpg\n",
      "Downloading https://i.imgur.com/sNE9WXC.jpg to /Users/clarasofiechristiansen/Documents/Clara/DTU/Data_Fagprojekt/Data/EarthPorn_z0t3e2.jpg\n",
      "Downloading https://i.redd.it/b06oujkzha1a1.jpg to /Users/clarasofiechristiansen/Documents/Clara/DTU/Data_Fagprojekt/Data/EarthPorn_z0rnh9.jpg\n",
      "Downloading https://i.redd.it/x3zt4xf0ga1a1.jpg to /Users/clarasofiechristiansen/Documents/Clara/DTU/Data_Fagprojekt/Data/EarthPorn_z0rgtl.jpg\n",
      "Downloading https://i.redd.it/ftdrg4f5x81a1.jpg to /Users/clarasofiechristiansen/Documents/Clara/DTU/Data_Fagprojekt/Data/EarthPorn_z0rdwz.jpg\n",
      "Downloading https://i.redd.it/ddi8k4oyea1a1.jpg to /Users/clarasofiechristiansen/Documents/Clara/DTU/Data_Fagprojekt/Data/EarthPorn_z0rd3u.jpg\n",
      "Downloading https://7r6.com/NZvsIND to /Users/clarasofiechristiansen/Documents/Clara/DTU/Data_Fagprojekt/Data/EarthPorn_z0qo6h.jpg\n",
      "Downloading https://i.redd.it/xxk5wa8kk81a1.jpg to /Users/clarasofiechristiansen/Documents/Clara/DTU/Data_Fagprojekt/Data/EarthPorn_z0q18k.jpg\n",
      "Downloading https://i.redd.it/mb2ovyudk81a1.jpg to /Users/clarasofiechristiansen/Documents/Clara/DTU/Data_Fagprojekt/Data/EarthPorn_z0pz37.jpg\n",
      "Downloading https://i.redd.it/esw4r8l91a1a1.jpg to /Users/clarasofiechristiansen/Documents/Clara/DTU/Data_Fagprojekt/Data/EarthPorn_z0pwup.jpg\n",
      "Downloading https://i.redd.it/7ffhxztto91a1.jpg to /Users/clarasofiechristiansen/Documents/Clara/DTU/Data_Fagprojekt/Data/EarthPorn_z0oiun.jpg\n",
      "Downloading https://i.redd.it/ddftqxm8n91a1.jpg to /Users/clarasofiechristiansen/Documents/Clara/DTU/Data_Fagprojekt/Data/EarthPorn_z0oc3a.jpg\n",
      "Downloading https://youtu.be/qjN09WzDP6c to /Users/clarasofiechristiansen/Documents/Clara/DTU/Data_Fagprojekt/Data/EarthPorn_z0o02s.jpg\n",
      "Downloading https://i.redd.it/yznngpob491a1.jpg to /Users/clarasofiechristiansen/Documents/Clara/DTU/Data_Fagprojekt/Data/EarthPorn_z0m2y5.jpg\n",
      "Downloading https://i.redd.it/tvqz0tkti71a1.jpg to /Users/clarasofiechristiansen/Documents/Clara/DTU/Data_Fagprojekt/Data/EarthPorn_z0llsj.jpg\n",
      "Downloading https://i.redd.it/0mjboxjaw81a1.jpg to /Users/clarasofiechristiansen/Documents/Clara/DTU/Data_Fagprojekt/Data/EarthPorn_z0l3fh.jpg\n",
      "Downloading https://i.redd.it/sux98d12e71a1.jpg to /Users/clarasofiechristiansen/Documents/Clara/DTU/Data_Fagprojekt/Data/EarthPorn_z0l1cf.jpg\n",
      "Downloading https://i.redd.it/uj05p2quu81a1.jpg to /Users/clarasofiechristiansen/Documents/Clara/DTU/Data_Fagprojekt/Data/EarthPorn_z0kwcc.jpg\n",
      "Downloading https://i.redd.it/j7s4a83oa71a1.jpg to /Users/clarasofiechristiansen/Documents/Clara/DTU/Data_Fagprojekt/Data/EarthPorn_z0kmgd.jpg\n",
      "Downloading https://i.redd.it/4ucw968vr81a1.jpg to /Users/clarasofiechristiansen/Documents/Clara/DTU/Data_Fagprojekt/Data/EarthPorn_z0kjd8.jpg\n",
      "Downloading https://i.redd.it/0wrtdhjs571a1.jpg to /Users/clarasofiechristiansen/Documents/Clara/DTU/Data_Fagprojekt/Data/EarthPorn_z0k14j.jpg\n",
      "Downloading https://i.redd.it/p3h6s4f7571a1.jpg to /Users/clarasofiechristiansen/Documents/Clara/DTU/Data_Fagprojekt/Data/EarthPorn_z0jxxt.jpg\n",
      "Downloading https://i.redd.it/h9yy2xng471a1.jpg to /Users/clarasofiechristiansen/Documents/Clara/DTU/Data_Fagprojekt/Data/EarthPorn_z0jt4z.jpg\n",
      "Downloading https://i.redd.it/rsbd1qzi271a1.png to /Users/clarasofiechristiansen/Documents/Clara/DTU/Data_Fagprojekt/Data/EarthPorn_z0jjtl.jpg\n",
      "Downloading https://i.redd.it/uah1j6e2171a1.jpg to /Users/clarasofiechristiansen/Documents/Clara/DTU/Data_Fagprojekt/Data/EarthPorn_z0jcni.jpg\n",
      "Downloading https://i.imgur.com/PxvL7UW.jpg to /Users/clarasofiechristiansen/Documents/Clara/DTU/Data_Fagprojekt/Data/EarthPorn_z0j3ca.jpg\n",
      "Downloading https://i.redd.it/plqx59kjkn8a1.jpg to /Users/clarasofiechristiansen/Documents/Clara/DTU/Data_Fagprojekt/Data/EarthPorn_zx5snh.jpg\n",
      "Downloading https://i.redd.it/11pnbiqm0m8a1.jpg to /Users/clarasofiechristiansen/Documents/Clara/DTU/Data_Fagprojekt/Data/EarthPorn_zx5l1h.jpg\n",
      "Downloading https://i.redd.it/un5crts04n8a1.jpg to /Users/clarasofiechristiansen/Documents/Clara/DTU/Data_Fagprojekt/Data/EarthPorn_zx4cyz.jpg\n",
      "Downloading https://i.redd.it/glvef3q33n8a1.jpg to /Users/clarasofiechristiansen/Documents/Clara/DTU/Data_Fagprojekt/Data/EarthPorn_zx49w4.jpg\n",
      "Downloading https://i.redd.it/z26vhcs9um8a1.jpg to /Users/clarasofiechristiansen/Documents/Clara/DTU/Data_Fagprojekt/Data/EarthPorn_zx3hbm.jpg\n",
      "Downloading https://i.redd.it/4lz58nnatm8a1.jpg to /Users/clarasofiechristiansen/Documents/Clara/DTU/Data_Fagprojekt/Data/EarthPorn_zx3e9k.jpg\n",
      "Downloading https://v.redd.it/1kp9c11s8l8a1 to /Users/clarasofiechristiansen/Documents/Clara/DTU/Data_Fagprojekt/Data/EarthPorn_zx384x.jpg\n",
      "Downloading https://i.imgur.com/VfqjgMd.jpg to /Users/clarasofiechristiansen/Documents/Clara/DTU/Data_Fagprojekt/Data/EarthPorn_zx325l.jpg\n",
      "Downloading https://i.redd.it/ck7w1x0xkm8a1.jpg to /Users/clarasofiechristiansen/Documents/Clara/DTU/Data_Fagprojekt/Data/EarthPorn_zx2ltu.jpg\n",
      "Downloading https://i.redd.it/9dw0zltvkm8a1.jpg to /Users/clarasofiechristiansen/Documents/Clara/DTU/Data_Fagprojekt/Data/EarthPorn_zx2lpa.jpg\n",
      "Downloading https://i.redd.it/ho7igxi71l8a1.jpg to /Users/clarasofiechristiansen/Documents/Clara/DTU/Data_Fagprojekt/Data/EarthPorn_zx2ej2.jpg\n",
      "Downloading https://i.redd.it/1lo79px3xk8a1.jpg to /Users/clarasofiechristiansen/Documents/Clara/DTU/Data_Fagprojekt/Data/EarthPorn_zx206x.jpg\n",
      "Downloading https://i.redd.it/dk7r5q4gbm8a1.jpg to /Users/clarasofiechristiansen/Documents/Clara/DTU/Data_Fagprojekt/Data/EarthPorn_zx1n5s.jpg\n",
      "Downloading https://i.redd.it/k7hjmz9nnk8a1.png to /Users/clarasofiechristiansen/Documents/Clara/DTU/Data_Fagprojekt/Data/EarthPorn_zx13av.jpg\n",
      "Downloading https://i.redd.it/j0jqre1i0m8a1.jpg to /Users/clarasofiechristiansen/Documents/Clara/DTU/Data_Fagprojekt/Data/EarthPorn_zx0hgn.jpg\n",
      "Downloading https://pakistannewsurdu786.blogspot.com/2022/12/top-25-t-shirts-for-boys-top-25-t.html to /Users/clarasofiechristiansen/Documents/Clara/DTU/Data_Fagprojekt/Data/EarthPorn_zx0a0x.jpg\n",
      "Downloading https://i.redd.it/li3mhqj7jl8a1.jpg to /Users/clarasofiechristiansen/Documents/Clara/DTU/Data_Fagprojekt/Data/EarthPorn_zwyisd.jpg\n",
      "Downloading https://i.redd.it/ift8desdil8a1.jpg to /Users/clarasofiechristiansen/Documents/Clara/DTU/Data_Fagprojekt/Data/EarthPorn_zwyf25.jpg\n",
      "Downloading https://i.imgur.com/Or9Lp0P.jpg to /Users/clarasofiechristiansen/Documents/Clara/DTU/Data_Fagprojekt/Data/EarthPorn_zwyd33.jpg\n",
      "Downloading https://i.redd.it/kgsv8krvhl8a1.jpg to /Users/clarasofiechristiansen/Documents/Clara/DTU/Data_Fagprojekt/Data/EarthPorn_zwyczn.jpg\n",
      "Downloading https://i.redd.it/03561cas7l8a1.jpg to /Users/clarasofiechristiansen/Documents/Clara/DTU/Data_Fagprojekt/Data/EarthPorn_zwx5ss.jpg\n",
      "Downloading https://i.redd.it/676xjwt44l8a1.jpg to /Users/clarasofiechristiansen/Documents/Clara/DTU/Data_Fagprojekt/Data/EarthPorn_zwwpxa.jpg\n",
      "Downloading https://i.redd.it/064b3ibj1l8a1.jpg to /Users/clarasofiechristiansen/Documents/Clara/DTU/Data_Fagprojekt/Data/EarthPorn_zwwey0.jpg\n",
      "Downloading https://i.redd.it/6r2inl0k0l8a1.jpg to /Users/clarasofiechristiansen/Documents/Clara/DTU/Data_Fagprojekt/Data/EarthPorn_zwwaq8.jpg\n",
      "Downloading https://i.redd.it/5v9lp6yqej8a1.jpg to /Users/clarasofiechristiansen/Documents/Clara/DTU/Data_Fagprojekt/Data/EarthPorn_zwvud6.jpg\n",
      "Downloading https://i.redd.it/f11g2opcpk8a1.jpg to /Users/clarasofiechristiansen/Documents/Clara/DTU/Data_Fagprojekt/Data/EarthPorn_zwuwam.jpg\n",
      "Downloading https://i.redd.it/zmo3r4hkhk8a1.jpg to /Users/clarasofiechristiansen/Documents/Clara/DTU/Data_Fagprojekt/Data/EarthPorn_zwtvdr.jpg\n",
      "Downloading https://i.redd.it/8q6wnjw0hk8a1.jpg to /Users/clarasofiechristiansen/Documents/Clara/DTU/Data_Fagprojekt/Data/EarthPorn_zwtsyd.jpg\n",
      "Downloading https://i.redd.it/dltafjdsfk8a1.jpg to /Users/clarasofiechristiansen/Documents/Clara/DTU/Data_Fagprojekt/Data/EarthPorn_zwtmvg.jpg\n",
      "Downloading https://i.redd.it/sb58v3guvi8a1.jpg to /Users/clarasofiechristiansen/Documents/Clara/DTU/Data_Fagprojekt/Data/EarthPorn_zwtbbl.jpg\n",
      "Downloading https://i.redd.it/1wns64c9li8a1.jpg to /Users/clarasofiechristiansen/Documents/Clara/DTU/Data_Fagprojekt/Data/EarthPorn_zwrsrr.jpg\n",
      "Downloading https://i.redd.it/wxzprxy32k8a1.jpg to /Users/clarasofiechristiansen/Documents/Clara/DTU/Data_Fagprojekt/Data/EarthPorn_zwrp4x.jpg\n",
      "Downloading https://i.redd.it/jv2d0mm7ki8a1.jpg to /Users/clarasofiechristiansen/Documents/Clara/DTU/Data_Fagprojekt/Data/EarthPorn_zwrnha.jpg\n",
      "Downloading https://i.redd.it/ga9kpxq4ki8a1.jpg to /Users/clarasofiechristiansen/Documents/Clara/DTU/Data_Fagprojekt/Data/EarthPorn_zwrn3a.jpg\n",
      "Downloading https://i.redd.it/tac4eiin1k8a1.jpg to /Users/clarasofiechristiansen/Documents/Clara/DTU/Data_Fagprojekt/Data/EarthPorn_zwrmth.jpg\n",
      "Downloading https://i.redd.it/sboyyg550k8a1.jpg to /Users/clarasofiechristiansen/Documents/Clara/DTU/Data_Fagprojekt/Data/EarthPorn_zwrf4e.jpg\n",
      "Downloading https://i.redd.it/qvzte5drgi8a1.jpg to /Users/clarasofiechristiansen/Documents/Clara/DTU/Data_Fagprojekt/Data/EarthPorn_zwrb3f.jpg\n",
      "Downloading https://i.imgur.com/zC0w8We.jpg to /Users/clarasofiechristiansen/Documents/Clara/DTU/Data_Fagprojekt/Data/EarthPorn_zwr8al.jpg\n",
      "Downloading https://i.redd.it/ar1ccnn0uj8a1.jpg to /Users/clarasofiechristiansen/Documents/Clara/DTU/Data_Fagprojekt/Data/EarthPorn_zwqkp2.jpg\n",
      "Downloading https://i.redd.it/bzooaj5lsj8a1.jpg to /Users/clarasofiechristiansen/Documents/Clara/DTU/Data_Fagprojekt/Data/EarthPorn_zwqd5s.jpg\n",
      "Downloading https://i.redd.it/waukhpst7i8a1.jpg to /Users/clarasofiechristiansen/Documents/Clara/DTU/Data_Fagprojekt/Data/EarthPorn_zwpwkx.jpg\n",
      "Downloading https://i.redd.it/xog8jpjwlj8a1.jpg to /Users/clarasofiechristiansen/Documents/Clara/DTU/Data_Fagprojekt/Data/EarthPorn_zwpex1.jpg\n",
      "Downloading https://i.redd.it/cpkp4q6mlj8a1.jpg to /Users/clarasofiechristiansen/Documents/Clara/DTU/Data_Fagprojekt/Data/EarthPorn_zwpdhx.jpg\n",
      "Downloading https://i.redd.it/m29y1c4dij8a1.jpg to /Users/clarasofiechristiansen/Documents/Clara/DTU/Data_Fagprojekt/Data/EarthPorn_zwoy01.jpg\n",
      "Downloading https://i.redd.it/0byqzczh0i8a1.jpg to /Users/clarasofiechristiansen/Documents/Clara/DTU/Data_Fagprojekt/Data/EarthPorn_zwow0n.jpg\n",
      "Downloading https://afflat3c1.com/trk/lnk/0A9E3B31-36E9-4BC7-A0C0-588DBCDD7FB1/?o=6365&amp;c=918277&amp;a=647002&amp;k=136F53C896120337008D60D0EADAFB30&amp;l=5077 to /Users/clarasofiechristiansen/Documents/Clara/DTU/Data_Fagprojekt/Data/EarthPorn_zwohwi.jpg\n",
      "Downloading https://i.redd.it/0lpr7su2aj8a1.jpg to /Users/clarasofiechristiansen/Documents/Clara/DTU/Data_Fagprojekt/Data/EarthPorn_zwnsuh.jpg\n",
      "Downloading https://i.redd.it/ud4pt70x8j8a1.jpg to /Users/clarasofiechristiansen/Documents/Clara/DTU/Data_Fagprojekt/Data/EarthPorn_zwnmyw.jpg\n",
      "Downloading https://i.redd.it/n8p2or1s8j8a1.jpg to /Users/clarasofiechristiansen/Documents/Clara/DTU/Data_Fagprojekt/Data/EarthPorn_zwnmce.jpg\n",
      "Downloading https://i.redd.it/g3l2xwjh8j8a1.jpg to /Users/clarasofiechristiansen/Documents/Clara/DTU/Data_Fagprojekt/Data/EarthPorn_zwnkxd.jpg\n",
      "Downloading https://i.redd.it/ey9xoibymh8a1.jpg to /Users/clarasofiechristiansen/Documents/Clara/DTU/Data_Fagprojekt/Data/EarthPorn_zwn3ju.jpg\n",
      "Downloading https://i.redd.it/fj615yd6gh8a1.jpg to /Users/clarasofiechristiansen/Documents/Clara/DTU/Data_Fagprojekt/Data/EarthPorn_zwm6la.jpg\n",
      "Downloading https://i.redd.it/70bznu0bui8a1.jpg to /Users/clarasofiechristiansen/Documents/Clara/DTU/Data_Fagprojekt/Data/EarthPorn_zwlpvt.jpg\n",
      "Downloading https://i.redd.it/u6ogo0l3bh8a1.jpg to /Users/clarasofiechristiansen/Documents/Clara/DTU/Data_Fagprojekt/Data/EarthPorn_zwlhmg.jpg\n",
      "Downloading https://i.redd.it/6tlao9byah8a1.jpg to /Users/clarasofiechristiansen/Documents/Clara/DTU/Data_Fagprojekt/Data/EarthPorn_zwlgzl.jpg\n",
      "Downloading https://i.redd.it/mhcgxpg0si8a1.jpg to /Users/clarasofiechristiansen/Documents/Clara/DTU/Data_Fagprojekt/Data/EarthPorn_zwleq3.jpg\n",
      "Downloading https://i.redd.it/9ndlljdsri8a1.jpg to /Users/clarasofiechristiansen/Documents/Clara/DTU/Data_Fagprojekt/Data/EarthPorn_zwldlq.jpg\n",
      "Downloading https://i.redd.it/i05zku01ri8a1.jpg to /Users/clarasofiechristiansen/Documents/Clara/DTU/Data_Fagprojekt/Data/EarthPorn_zwla0g.jpg\n",
      "Downloading https://i.redd.it/fx64oumopi8a1.jpg to /Users/clarasofiechristiansen/Documents/Clara/DTU/Data_Fagprojekt/Data/EarthPorn_zwl3ok.jpg\n",
      "Downloading https://i.redd.it/ipe2sk3eii8a1.jpg to /Users/clarasofiechristiansen/Documents/Clara/DTU/Data_Fagprojekt/Data/EarthPorn_zwk54a.jpg\n",
      "Downloading https://i.redd.it/2bcoukfgfi8a1.jpg to /Users/clarasofiechristiansen/Documents/Clara/DTU/Data_Fagprojekt/Data/EarthPorn_zwjrbz.jpg\n",
      "Downloading https://i.redd.it/mzyk8lsoci8a1.jpg to /Users/clarasofiechristiansen/Documents/Clara/DTU/Data_Fagprojekt/Data/EarthPorn_zwjejf.jpg\n",
      "Downloading https://i.redd.it/17k8c4kftg8a1.jpg to /Users/clarasofiechristiansen/Documents/Clara/DTU/Data_Fagprojekt/Data/EarthPorn_zwj7dv.jpg\n",
      "Downloading https://i.redd.it/xi5t51148i8a1.jpg to /Users/clarasofiechristiansen/Documents/Clara/DTU/Data_Fagprojekt/Data/EarthPorn_zwitf1.jpg\n",
      "Downloading https://i.redd.it/637z2aud7i8a1.jpg to /Users/clarasofiechristiansen/Documents/Clara/DTU/Data_Fagprojekt/Data/EarthPorn_zwiq5h.jpg\n",
      "Downloading https://i.redd.it/1y0bqwxx6i8a1.jpg to /Users/clarasofiechristiansen/Documents/Clara/DTU/Data_Fagprojekt/Data/EarthPorn_zwio7z.jpg\n",
      "Downloading https://i.redd.it/jpxrikm8mg8a1.jpg to /Users/clarasofiechristiansen/Documents/Clara/DTU/Data_Fagprojekt/Data/EarthPorn_zwifs8.jpg\n",
      "Downloading https://i.redd.it/8nemmpyzmg8a1.jpg to /Users/clarasofiechristiansen/Documents/Clara/DTU/Data_Fagprojekt/Data/EarthPorn_zwif0q.jpg\n",
      "Downloading https://i.redd.it/w83ldkdl4i8a1.jpg to /Users/clarasofiechristiansen/Documents/Clara/DTU/Data_Fagprojekt/Data/EarthPorn_zwidud.jpg\n",
      "Downloading https://twitter.com/wonderofscience/status/1607715417996382212?t=P9jZ0MuXxbMZKGzQtjUJ_Q&amp;s=34 to /Users/clarasofiechristiansen/Documents/Clara/DTU/Data_Fagprojekt/Data/EarthPorn_zwi913.jpg\n",
      "Downloading https://i.redd.it/5jzjobmayh8a1.jpg to /Users/clarasofiechristiansen/Documents/Clara/DTU/Data_Fagprojekt/Data/EarthPorn_zwhkbg.jpg\n",
      "Downloading https://www.sciencedriver.co.in/2022/12/coal-shortage-india.html to /Users/clarasofiechristiansen/Documents/Clara/DTU/Data_Fagprojekt/Data/EarthPorn_zwhbss.jpg\n",
      "Downloading https://i.redd.it/41dd8pb3dg8a1.jpg to /Users/clarasofiechristiansen/Documents/Clara/DTU/Data_Fagprojekt/Data/EarthPorn_zwh48d.jpg\n",
      "Downloading https://i.redd.it/18lskn0sbg8a1.jpg to /Users/clarasofiechristiansen/Documents/Clara/DTU/Data_Fagprojekt/Data/EarthPorn_zwgz8v.jpg\n",
      "Downloading https://youtu.be/YNpwofp6X-Q to /Users/clarasofiechristiansen/Documents/Clara/DTU/Data_Fagprojekt/Data/EarthPorn_zwgkn7.jpg\n",
      "Downloading https://i.redd.it/0ijszmmy7g8a1.jpg to /Users/clarasofiechristiansen/Documents/Clara/DTU/Data_Fagprojekt/Data/EarthPorn_zwgj9o.jpg\n",
      "Downloading https://i.redd.it/7uf0a5506g8a1.jpg to /Users/clarasofiechristiansen/Documents/Clara/DTU/Data_Fagprojekt/Data/EarthPorn_zwgb8b.jpg\n",
      "Downloading https://i.redd.it/83vjc7dq0g8a1.jpg to /Users/clarasofiechristiansen/Documents/Clara/DTU/Data_Fagprojekt/Data/EarthPorn_zwfq61.jpg\n",
      "Downloading https://www.youtube.com/watch?v=2TTqljjR1Qw to /Users/clarasofiechristiansen/Documents/Clara/DTU/Data_Fagprojekt/Data/EarthPorn_zweyhp.jpg\n",
      "Downloading https://i.redd.it/i8wc6yb38h8a1.jpg to /Users/clarasofiechristiansen/Documents/Clara/DTU/Data_Fagprojekt/Data/EarthPorn_zweo4w.jpg\n",
      "Downloading https://i.redd.it/prmi4myfxg8a1.jpg to /Users/clarasofiechristiansen/Documents/Clara/DTU/Data_Fagprojekt/Data/EarthPorn_zwdnpb.jpg\n",
      "Downloading https://i.redd.it/a1m2wat1bg8a1.jpg to /Users/clarasofiechristiansen/Documents/Clara/DTU/Data_Fagprojekt/Data/EarthPorn_zwbppx.jpg\n",
      "Downloading https://i.redd.it/702nr9jiag8a1.jpg to /Users/clarasofiechristiansen/Documents/Clara/DTU/Data_Fagprojekt/Data/EarthPorn_zwbo6y.jpg\n",
      "Downloading https://i.redd.it/7nwjqfdt7g8a1.jpg to /Users/clarasofiechristiansen/Documents/Clara/DTU/Data_Fagprojekt/Data/EarthPorn_zwbg19.jpg\n",
      "Downloading https://i.redd.it/7wgy3afg6g8a1.jpg to /Users/clarasofiechristiansen/Documents/Clara/DTU/Data_Fagprojekt/Data/EarthPorn_zwbbyb.jpg\n",
      "Downloading https://i.redd.it/0cu6r3t83g8a1.jpg to /Users/clarasofiechristiansen/Documents/Clara/DTU/Data_Fagprojekt/Data/EarthPorn_zwb254.jpg\n",
      "Downloading https://i.redd.it/kd2hdsxlyf8a1.jpg to /Users/clarasofiechristiansen/Documents/Clara/DTU/Data_Fagprojekt/Data/EarthPorn_zwao6m.jpg\n",
      "Downloading https://i.redd.it/1biwhz7uxf8a1.jpg to /Users/clarasofiechristiansen/Documents/Clara/DTU/Data_Fagprojekt/Data/EarthPorn_zwalul.jpg\n",
      "Downloading https://i.redd.it/mn3n0fx9gf8a1.jpg to /Users/clarasofiechristiansen/Documents/Clara/DTU/Data_Fagprojekt/Data/EarthPorn_zw8zl3.jpg\n",
      "Downloading https://i.redd.it/jgjvcxjgue8a1.jpg to /Users/clarasofiechristiansen/Documents/Clara/DTU/Data_Fagprojekt/Data/EarthPorn_zw6oth.jpg\n",
      "Downloading https://i.redd.it/z928mx72ue8a1.jpg to /Users/clarasofiechristiansen/Documents/Clara/DTU/Data_Fagprojekt/Data/EarthPorn_zw6ndg.jpg\n",
      "Downloading https://i.redd.it/94w2nourte8a1.jpg to /Users/clarasofiechristiansen/Documents/Clara/DTU/Data_Fagprojekt/Data/EarthPorn_zw6mb6.jpg\n",
      "Downloading https://i.redd.it/vvpro6lr7d8a1.jpg to /Users/clarasofiechristiansen/Documents/Clara/DTU/Data_Fagprojekt/Data/EarthPorn_zw64y3.jpg\n",
      "Downloading https://www.deepnude.to/v/i-7e741303c27b6d3cbbf848c57ca1bac92d4e88d3cfd44575968a0b62 to /Users/clarasofiechristiansen/Documents/Clara/DTU/Data_Fagprojekt/Data/EarthPorn_zw63pr.jpg\n"
     ]
    }
   ],
   "source": [
    "root_folder = '/Users/clarasofiechristiansen/Documents/Clara/DTU/Data_Fagprojekt/Data/'\n",
    "\n",
    "def download(row):\n",
    "   filename = root_folder + subreddit + '_' + row['id'] + '.jpg'\n",
    "\n",
    "   # create folder if it doesn't exist\n",
    "   os.makedirs(os.path.dirname(filename), exist_ok = True)\n",
    "\n",
    "   url = row.url\n",
    "\n",
    "   print(f\"Downloading {url} to {filename}\")\n",
    "   r = requests.get(url, allow_redirects=True)\n",
    "   with open(filename, 'wb') as f:\n",
    "       f.write(r.content)\n",
    "\n",
    "try:\n",
    "    posts_df.apply(download, axis=1)\n",
    "except:\n",
    "    pass"
   ]
  },
  {
   "cell_type": "markdown",
   "metadata": {},
   "source": [
    "Preview sample of posts data"
   ]
  },
  {
   "cell_type": "code",
   "execution_count": 86,
   "metadata": {},
   "outputs": [
    {
     "name": "stdout",
     "output_type": "stream",
     "text": [
      "     subreddit selftext author_fullname  gilded  \\\n",
      "0    EarthPorn              t2_1p6cmtae       0   \n",
      "1    EarthPorn              t2_tllcjn6z       0   \n",
      "2    EarthPorn              t2_21tfccf2       0   \n",
      "3    EarthPorn              t2_a758y5rm       0   \n",
      "4    EarthPorn               t2_ola2kwf       0   \n",
      "..         ...      ...             ...     ...   \n",
      "495  EarthPorn              t2_lvp4l9e3       0   \n",
      "496  EarthPorn              t2_596txlac       0   \n",
      "497  EarthPorn              t2_u80hogu3       0   \n",
      "498  EarthPorn                t2_13na3y       0   \n",
      "499  EarthPorn                 t2_mf97n       0   \n",
      "\n",
      "                                                                                                                                                         title  \\\n",
      "0                                                                                        Waimea Canyon, Kauai - colorful even on a hazy day [OC] [5462 × 3660]   \n",
      "1                                                                                                              A fiery sunrise at Canyonlands [OC] [4100x2700]   \n",
      "2                                                                                                      White Sands National Park, New Mexico [OC][6482 × 3185]   \n",
      "3                                                                                                                      Lixian, Sichuan, China [OC] 3024 x 4032   \n",
      "4                                                                                Fall and Snow Paining from Yosemite National Park, California [2998x2000][OC]   \n",
      "..                                                                                                                                                         ...   \n",
      "495  Another insolvency recording shows the worth of FTX's crypto possessions is only $659,000, after Sam Bankman-Seared said they were valued at $5.5 billion   \n",
      "496                                                                                                                         Jackson hole , Wy [OC] [2300x2100]   \n",
      "497                                                                                                               Does this count? I like the tree a lot. [OC]   \n",
      "498                                                                                                                    Slick Rock In Texas [ 3809 x 2070] [OC]   \n",
      "499                                                                                                                       Arches National Park[OC] (4032x2268)   \n",
      "\n",
      "    link_flair_richtext subreddit_name_prefixed  hidden  pwls  \\\n",
      "0                    []             r/EarthPorn   False     6   \n",
      "1                    []             r/EarthPorn   False     6   \n",
      "2                    []             r/EarthPorn   False     6   \n",
      "3                    []             r/EarthPorn   False     6   \n",
      "4                    []             r/EarthPorn   False     6   \n",
      "..                  ...                     ...     ...   ...   \n",
      "495                  []             r/EarthPorn   False     6   \n",
      "496                  []             r/EarthPorn   False     6   \n",
      "497                  []             r/EarthPorn   False     6   \n",
      "498                  []             r/EarthPorn   False     6   \n",
      "499                  []             r/EarthPorn   False     6   \n",
      "\n",
      "    link_flair_css_class  thumbnail_height top_awarded_type  hide_score  \\\n",
      "0                   None              93.0             None        True   \n",
      "1                   None              93.0             None        True   \n",
      "2                   None              68.0             None        True   \n",
      "3                   None             140.0             None        True   \n",
      "4                   None              93.0             None        True   \n",
      "..                   ...               ...              ...         ...   \n",
      "495                 None              78.0             None        True   \n",
      "496                 None              92.0             None        True   \n",
      "497                 None             105.0             None        True   \n",
      "498                 None              76.0             None        True   \n",
      "499                 None              78.0             None        True   \n",
      "\n",
      "     quarantine link_flair_text_color  upvote_ratio  \\\n",
      "0         False                  dark           1.0   \n",
      "1         False                  dark           1.0   \n",
      "2         False                  dark           1.0   \n",
      "3         False                  dark           1.0   \n",
      "4         False                  dark           1.0   \n",
      "..          ...                   ...           ...   \n",
      "495       False                  dark           1.0   \n",
      "496       False                  dark           1.0   \n",
      "497       False                  dark           1.0   \n",
      "498       False                  dark           1.0   \n",
      "499       False                  dark           1.0   \n",
      "\n",
      "    author_flair_background_color subreddit_type  total_awards_received  \\\n",
      "0                         #dadada         public                      0   \n",
      "1                            None         public                      0   \n",
      "2                         #dadada         public                      0   \n",
      "3                            None         public                      0   \n",
      "4                                         public                      0   \n",
      "..                            ...            ...                    ...   \n",
      "495                          None         public                      0   \n",
      "496                          None         public                      0   \n",
      "497                          None         public                      0   \n",
      "498                          None         public                      0   \n",
      "499                          None         public                      0   \n",
      "\n",
      "    media_embed  thumbnail_width              author_flair_template_id  \\\n",
      "0            {}            140.0  dade30a2-7a65-11e7-bc8c-0e2243565a4c   \n",
      "1            {}            140.0  e7b26dac-7a65-11e7-9f05-0e058f1b2f50   \n",
      "2            {}            140.0  dade30a2-7a65-11e7-bc8c-0e2243565a4c   \n",
      "3            {}            140.0  e7b26dac-7a65-11e7-9f05-0e058f1b2f50   \n",
      "4            {}            140.0                                  None   \n",
      "..          ...              ...                                   ...   \n",
      "495          {}            140.0                                  None   \n",
      "496          {}            140.0  e7b26dac-7a65-11e7-9f05-0e058f1b2f50   \n",
      "497          {}            140.0                                  None   \n",
      "498          {}            140.0  e7b26dac-7a65-11e7-9f05-0e058f1b2f50   \n",
      "499          {}            140.0  e7b26dac-7a65-11e7-9f05-0e058f1b2f50   \n",
      "\n",
      "     is_original_content secure_media  is_reddit_media_domain  is_meta  \\\n",
      "0                  False         None                    True    False   \n",
      "1                  False         None                    True    False   \n",
      "2                  False         None                    True    False   \n",
      "3                  False         None                    True    False   \n",
      "4                  False         None                    True    False   \n",
      "..                   ...          ...                     ...      ...   \n",
      "495                False         None                   False    False   \n",
      "496                False         None                    True    False   \n",
      "497                False         None                    True    False   \n",
      "498                False         None                    True    False   \n",
      "499                False         None                    True    False   \n",
      "\n",
      "    category secure_media_embed link_flair_text  score  \\\n",
      "0       None                 {}            None      1   \n",
      "1       None                 {}            None      1   \n",
      "2       None                 {}            None      1   \n",
      "3       None                 {}            None      1   \n",
      "4       None                 {}            None      1   \n",
      "..       ...                ...             ...    ...   \n",
      "495     None                 {}            None      1   \n",
      "496     None                 {}            None      1   \n",
      "497     None                 {}            None      1   \n",
      "498     None                 {}            None      1   \n",
      "499     None                 {}            None      1   \n",
      "\n",
      "     is_created_from_ads_ui  author_premium  \\\n",
      "0                     False            True   \n",
      "1                     False            True   \n",
      "2                     False           False   \n",
      "3                     False           False   \n",
      "4                     False           False   \n",
      "..                      ...             ...   \n",
      "495                   False           False   \n",
      "496                   False           False   \n",
      "497                   False           False   \n",
      "498                   False            True   \n",
      "499                   False           False   \n",
      "\n",
      "                                                                            thumbnail  \\\n",
      "0    https://b.thumbs.redditmedia.com/XsU02onvcFDdA5Q-t_Y9DgfUF-AvnG1mw_QnYg9-xII.jpg   \n",
      "1    https://b.thumbs.redditmedia.com/XJ_lv9rG1tpnuP9HIOohShh_NuOmvCsAWRGwm9UvCbI.jpg   \n",
      "2    https://b.thumbs.redditmedia.com/7tNJYm3EPf9V8DqS2Z7siBvPneTfW0byozXn2avsI0U.jpg   \n",
      "3    https://b.thumbs.redditmedia.com/Y08H0d9IGBmFgeD7TYWqbkri_LUsQjrFLRO-XH1AWUw.jpg   \n",
      "4    https://a.thumbs.redditmedia.com/AYQPkKVPHdRoj1tDHUPgFx6S-IXRv6Ub_sWK3JSUJx8.jpg   \n",
      "..                                                                                ...   \n",
      "495  https://b.thumbs.redditmedia.com/TYBtbzEGiPX8ycqfOE2g-FSUVo1gQJkrATeAma5vAMU.jpg   \n",
      "496  https://b.thumbs.redditmedia.com/p6R2NIC62SjsB68zCQfwk2gHvUpI8T4gxbPrVjANduw.jpg   \n",
      "497  https://a.thumbs.redditmedia.com/Ww62oz3jCqkl-6T_4LZHOga9hRgkSTalKYOx-OPFA_8.jpg   \n",
      "498  https://b.thumbs.redditmedia.com/Xz_ihgU2t--mLwWP79RJqZobKZ2DSKe1kqQpU_jAuoc.jpg   \n",
      "499  https://b.thumbs.redditmedia.com/HPGEomRQNhHjFMs30O86Vx9_NrS7QPSA-6iurri5-OE.jpg   \n",
      "\n",
      "     edited author_flair_css_class       author_flair_richtext gildings  \\\n",
      "0     False                 1-5 oc   [{'e': 'text', 't': '📷'}]       {}   \n",
      "1     False                 Camera  [{'e': 'text', 't': ' .'}]       {}   \n",
      "2     False                 1-5 oc   [{'e': 'text', 't': '📷'}]       {}   \n",
      "3     False                 Camera  [{'e': 'text', 't': ' .'}]       {}   \n",
      "4     False                 Camera                          []       {}   \n",
      "..      ...                    ...                         ...      ...   \n",
      "495   False                   None                          []       {}   \n",
      "496   False                 Camera  [{'e': 'text', 't': ' .'}]       {}   \n",
      "497   False                   None                          []       {}   \n",
      "498   False                 Camera  [{'e': 'text', 't': ' .'}]       {}   \n",
      "499   False                 Camera  [{'e': 'text', 't': ' .'}]       {}   \n",
      "\n",
      "    post_hint content_categories  is_self link_flair_type  wls  \\\n",
      "0       image               None    False            text    6   \n",
      "1       image               None    False            text    6   \n",
      "2       image               None    False            text    6   \n",
      "3       image               None    False            text    6   \n",
      "4       image               None    False            text    6   \n",
      "..        ...                ...      ...             ...  ...   \n",
      "495      link               None    False            text    6   \n",
      "496     image               None    False            text    6   \n",
      "497     image               None    False            text    6   \n",
      "498     image               None    False            text    6   \n",
      "499     image               None    False            text    6   \n",
      "\n",
      "    removed_by_category author_flair_type       domain  allow_live_comments  \\\n",
      "0                  None          richtext    i.redd.it                False   \n",
      "1                  None          richtext    i.redd.it                False   \n",
      "2                  None          richtext    i.redd.it                False   \n",
      "3                  None          richtext    i.redd.it                False   \n",
      "4                  None              text    i.redd.it                False   \n",
      "..                  ...               ...          ...                  ...   \n",
      "495           moderator              text  ttowards.us                False   \n",
      "496                None          richtext    i.redd.it                False   \n",
      "497           moderator              text    i.redd.it                False   \n",
      "498                None          richtext    i.redd.it                False   \n",
      "499                None          richtext    i.redd.it                False   \n",
      "\n",
      "    suggested_sort  \\\n",
      "0             None   \n",
      "1             None   \n",
      "2             None   \n",
      "3             None   \n",
      "4             None   \n",
      "..             ...   \n",
      "495           None   \n",
      "496           None   \n",
      "497           None   \n",
      "498           None   \n",
      "499           None   \n",
      "\n",
      "                                                          url_overridden_by_dest  \\\n",
      "0                                            https://i.redd.it/0p41a8xt1e1a1.jpg   \n",
      "1                                            https://i.redd.it/d680tr8xlf1a1.jpg   \n",
      "2                                            https://i.redd.it/8ess1pn3sd1a1.jpg   \n",
      "3                                            https://i.redd.it/vhq3nfw76f1a1.jpg   \n",
      "4                                            https://i.redd.it/iow0t7dikd1a1.jpg   \n",
      "..                                                                           ...   \n",
      "495  https://www.ttowards.us/2022/11/another-insolvency-recording-shows.html?m=1   \n",
      "496                                          https://i.redd.it/08ho03ff131a1.jpg   \n",
      "497                                          https://i.redd.it/e2kzw5o0131a1.jpg   \n",
      "498                                          https://i.redd.it/r261c0sap21a1.jpg   \n",
      "499                                          https://i.redd.it/rlef70rzo21a1.jpg   \n",
      "\n",
      "    view_count  archived  no_follow  is_crosspostable  pinned  over_18  \\\n",
      "0         None     False      False              True   False    False   \n",
      "1         None     False       True              True   False    False   \n",
      "2         None     False       True              True   False    False   \n",
      "3         None     False      False              True   False    False   \n",
      "4         None     False      False              True   False    False   \n",
      "..         ...       ...        ...               ...     ...      ...   \n",
      "495       None     False       True             False   False    False   \n",
      "496       None     False      False              True   False    False   \n",
      "497       None     False       True             False   False    False   \n",
      "498       None     False      False              True   False    False   \n",
      "499       None     False       True              True   False    False   \n",
      "\n",
      "                                                                                                                                                                                                                                                                                                                                                                                                                                                                                                                                                                                                                                                                                                                                                                                                                                                                                                                                                                                                                                                                                                                                                                                                                                                                                                                                                                                                                                                                                                                                                                                                                   preview  \\\n",
      "0                                                                                                                                                                                                                                                                                     {'images': [{'source': {'url': 'https://preview.redd.it/0p41a8xt1e1a1.jpg?auto=webp&amp;s=bf5f1964b03892ca9aad31f280f9a6aa0f42dd7b', 'width': 5462, 'height': 3660}, 'resolutions': [{'url': 'https://preview.redd.it/0p41a8xt1e1a1.jpg?width=108&amp;crop=smart&amp;auto=webp&amp;s=ff8b4632fccc631f14c19452cf0f755dd7edfc0b', 'width': 108, 'height': 72}, {'url': 'https://preview.redd.it/0p41a8xt1e1a1.jpg?width=216&amp;crop=smart&amp;auto=webp&amp;s=99b63d83fd8b5084998c0b10afec109864269dd1', 'width': 216, 'height': 144}, {'url': 'https://preview.redd.it/0p41a8xt1e1a1.jpg?width=320&amp;crop=smart&amp;auto=webp&amp;s=4337fc503cc1157934b428c4ba140fa61d851c8c', 'width': 320, 'height': 214}, {'url': 'https://preview.redd.it/0p41a8xt1e1a1.jpg?width=640&amp;crop=smart&amp;auto=webp&amp;s=7e43aff63d891177d23634d9a40b5a707e8ec0ec', 'width': 640, 'height': 428}, {'url': 'https://preview.redd.it/0p41a8xt1e1a1.jpg?width=960&amp;crop=smart&amp;auto=webp&amp;s=5697809eb93b9911e01e4dc56ef4b9de9ac8996e', 'width': 960, 'height': 643}, {'url': 'https://preview.redd.it/0p41a8xt1e1a1.jpg?width=1080&amp;crop=smart&amp;auto=webp&amp;s=19b8abe1ae437d11010f48f2ff4440123ae487f3', 'width': 1080, 'height': 723}], 'variants': {}, 'id': 'L-6ynCIKZDbIgwT9DlYK7kndPGjS8XFDlKTgtkLhMXE'}], 'enabled': True}   \n",
      "1                                                                                                                                                                                                                                                                                     {'images': [{'source': {'url': 'https://preview.redd.it/d680tr8xlf1a1.jpg?auto=webp&amp;s=6c61da81d499c256863f42381bf1c3d6d0f82967', 'width': 4096, 'height': 2732}, 'resolutions': [{'url': 'https://preview.redd.it/d680tr8xlf1a1.jpg?width=108&amp;crop=smart&amp;auto=webp&amp;s=1b1fe98023cad897f8bd268a82647e0122292cdc', 'width': 108, 'height': 72}, {'url': 'https://preview.redd.it/d680tr8xlf1a1.jpg?width=216&amp;crop=smart&amp;auto=webp&amp;s=12b675e394abbc544b0049692e729420e9eda344', 'width': 216, 'height': 144}, {'url': 'https://preview.redd.it/d680tr8xlf1a1.jpg?width=320&amp;crop=smart&amp;auto=webp&amp;s=bcc8ea2dc9d52a27c2025818786d42014be32034', 'width': 320, 'height': 213}, {'url': 'https://preview.redd.it/d680tr8xlf1a1.jpg?width=640&amp;crop=smart&amp;auto=webp&amp;s=333dbb434068b3dfd9efe58264fccb9622021b04', 'width': 640, 'height': 426}, {'url': 'https://preview.redd.it/d680tr8xlf1a1.jpg?width=960&amp;crop=smart&amp;auto=webp&amp;s=99dd2773da59e68387fc40d39b3e61b65005591f', 'width': 960, 'height': 640}, {'url': 'https://preview.redd.it/d680tr8xlf1a1.jpg?width=1080&amp;crop=smart&amp;auto=webp&amp;s=1030c2d26a131dcd5816b42bf16c414da9c8a78c', 'width': 1080, 'height': 720}], 'variants': {}, 'id': 'WtOS0iXC2pdyubMH-tEXxPZW1n_64XoX8ILQ9Vu9esU'}], 'enabled': True}   \n",
      "2                                                                                                                                                                                                                                                                                     {'images': [{'source': {'url': 'https://preview.redd.it/8ess1pn3sd1a1.jpg?auto=webp&amp;s=5028da5e5ef1039196ce088d7588555324ffee09', 'width': 6482, 'height': 3185}, 'resolutions': [{'url': 'https://preview.redd.it/8ess1pn3sd1a1.jpg?width=108&amp;crop=smart&amp;auto=webp&amp;s=a7446486c2c33a01ac526cad39bdd6ff99a88674', 'width': 108, 'height': 53}, {'url': 'https://preview.redd.it/8ess1pn3sd1a1.jpg?width=216&amp;crop=smart&amp;auto=webp&amp;s=b532f53840d5990a7953f4da91a38aaf58e59297', 'width': 216, 'height': 106}, {'url': 'https://preview.redd.it/8ess1pn3sd1a1.jpg?width=320&amp;crop=smart&amp;auto=webp&amp;s=fe60fa73ba291e757c8ea453174a511dee634377', 'width': 320, 'height': 157}, {'url': 'https://preview.redd.it/8ess1pn3sd1a1.jpg?width=640&amp;crop=smart&amp;auto=webp&amp;s=8b2876c0baf9dc1c91823a2622e946d9c7934996', 'width': 640, 'height': 314}, {'url': 'https://preview.redd.it/8ess1pn3sd1a1.jpg?width=960&amp;crop=smart&amp;auto=webp&amp;s=9a26dc029af29de17ea43d92c6c047687190d46d', 'width': 960, 'height': 471}, {'url': 'https://preview.redd.it/8ess1pn3sd1a1.jpg?width=1080&amp;crop=smart&amp;auto=webp&amp;s=ece296a676192bf28da6a0cdd880ae1e2a96296d', 'width': 1080, 'height': 530}], 'variants': {}, 'id': 'xoZpRs-OU2WcZy1QX5E00Qi-5rwgRqMTd2Y3ADQhHeQ'}], 'enabled': True}   \n",
      "3                                                                                                                                                                                                                                                                                  {'images': [{'source': {'url': 'https://preview.redd.it/vhq3nfw76f1a1.jpg?auto=webp&amp;s=4d997126a6f984a97819820856b19189ae462e18', 'width': 3024, 'height': 4032}, 'resolutions': [{'url': 'https://preview.redd.it/vhq3nfw76f1a1.jpg?width=108&amp;crop=smart&amp;auto=webp&amp;s=6ee9162103b04c8226873dc42cdd95c0940de340', 'width': 108, 'height': 144}, {'url': 'https://preview.redd.it/vhq3nfw76f1a1.jpg?width=216&amp;crop=smart&amp;auto=webp&amp;s=970371d748b0e4a8b1457fe3961f05f027957c3a', 'width': 216, 'height': 288}, {'url': 'https://preview.redd.it/vhq3nfw76f1a1.jpg?width=320&amp;crop=smart&amp;auto=webp&amp;s=c2a39ab7ee5650acf035b26b908e22c744b907c4', 'width': 320, 'height': 426}, {'url': 'https://preview.redd.it/vhq3nfw76f1a1.jpg?width=640&amp;crop=smart&amp;auto=webp&amp;s=05313c3061a0b2a766869be97fbc5d1d176ceaba', 'width': 640, 'height': 853}, {'url': 'https://preview.redd.it/vhq3nfw76f1a1.jpg?width=960&amp;crop=smart&amp;auto=webp&amp;s=547009514ffa610108ce904cb292e83e021ba98f', 'width': 960, 'height': 1280}, {'url': 'https://preview.redd.it/vhq3nfw76f1a1.jpg?width=1080&amp;crop=smart&amp;auto=webp&amp;s=c468e66b5d024a462d0e120a322736cd2af25f3d', 'width': 1080, 'height': 1440}], 'variants': {}, 'id': 't0imXGDtAjaRzH_KyBIDNcNubWECLvErF6c489CYif0'}], 'enabled': True}   \n",
      "4                                                                                                                                                                                                                                                                                     {'images': [{'source': {'url': 'https://preview.redd.it/iow0t7dikd1a1.jpg?auto=webp&amp;s=8ce81820e42b95f7ea78354b3978dc268042d464', 'width': 2998, 'height': 2000}, 'resolutions': [{'url': 'https://preview.redd.it/iow0t7dikd1a1.jpg?width=108&amp;crop=smart&amp;auto=webp&amp;s=e790d7f1419f9e76c70103d99fcc1907217d96a2', 'width': 108, 'height': 72}, {'url': 'https://preview.redd.it/iow0t7dikd1a1.jpg?width=216&amp;crop=smart&amp;auto=webp&amp;s=24d39430c6f0a7368f118a94ddf7d6081b68f189', 'width': 216, 'height': 144}, {'url': 'https://preview.redd.it/iow0t7dikd1a1.jpg?width=320&amp;crop=smart&amp;auto=webp&amp;s=31386aab38c6a9449612d21e2e5a1c9f6df8eadc', 'width': 320, 'height': 213}, {'url': 'https://preview.redd.it/iow0t7dikd1a1.jpg?width=640&amp;crop=smart&amp;auto=webp&amp;s=8b973ae4039f45a80c4ccdf2639033fd132ff9f0', 'width': 640, 'height': 426}, {'url': 'https://preview.redd.it/iow0t7dikd1a1.jpg?width=960&amp;crop=smart&amp;auto=webp&amp;s=ce93058134ee6ba6e99e10ce18102aa65fcd5ed3', 'width': 960, 'height': 640}, {'url': 'https://preview.redd.it/iow0t7dikd1a1.jpg?width=1080&amp;crop=smart&amp;auto=webp&amp;s=d73f6a2f22fbcdda871ec90070d487c75aaa6453', 'width': 1080, 'height': 720}], 'variants': {}, 'id': 'STCFNLX6IAkGd5aP8iAlCeEH-Mqe2DasJlnklzUyJLs'}], 'enabled': True}   \n",
      "..                                                                                                                                                                                                                                                                                                                                                                                                                                                                                                                                                                                                                                                                                                                                                                                                                                                                                                                                                                                                                                                                                                                                                                                                                                                                                                                                                                                                                                                                                                                                                                                                                     ...   \n",
      "495  {'images': [{'source': {'url': 'https://external-preview.redd.it/9JG-YMMZzhvDTz_1membmHfuX_grx8ptCztuyIZlliQ.jpg?auto=webp&amp;s=d203ea7f78aefd0388a57399ebc00ae8bc53d461', 'width': 1600, 'height': 901}, 'resolutions': [{'url': 'https://external-preview.redd.it/9JG-YMMZzhvDTz_1membmHfuX_grx8ptCztuyIZlliQ.jpg?width=108&amp;crop=smart&amp;auto=webp&amp;s=04dd91e2217cd07edcd625294232847a3a42ab57', 'width': 108, 'height': 60}, {'url': 'https://external-preview.redd.it/9JG-YMMZzhvDTz_1membmHfuX_grx8ptCztuyIZlliQ.jpg?width=216&amp;crop=smart&amp;auto=webp&amp;s=1b910b283e97af3cf329881db9bd41bf797f6f1f', 'width': 216, 'height': 121}, {'url': 'https://external-preview.redd.it/9JG-YMMZzhvDTz_1membmHfuX_grx8ptCztuyIZlliQ.jpg?width=320&amp;crop=smart&amp;auto=webp&amp;s=1d820a8876a22ef74718ba1d9778c40b11d41f8a', 'width': 320, 'height': 180}, {'url': 'https://external-preview.redd.it/9JG-YMMZzhvDTz_1membmHfuX_grx8ptCztuyIZlliQ.jpg?width=640&amp;crop=smart&amp;auto=webp&amp;s=ab391a3309b2deef286f6a5511b40f6c27f7c2c8', 'width': 640, 'height': 360}, {'url': 'https://external-preview.redd.it/9JG-YMMZzhvDTz_1membmHfuX_grx8ptCztuyIZlliQ.jpg?width=960&amp;crop=smart&amp;auto=webp&amp;s=0a31379a1f8b6f5dafb60a85b4c8ca8825fb3017', 'width': 960, 'height': 540}, {'url': 'https://external-preview.redd.it/9JG-YMMZzhvDTz_1membmHfuX_grx8ptCztuyIZlliQ.jpg?width=1080&amp;crop=smart&amp;auto=webp&amp;s=36723d7b6e2aed500dbe76ae2008d8beb6a8f333', 'width': 1080, 'height': 608}], 'variants': {}, 'id': '6mbU8fIflXn716LSasVXly0_R8zsOPbjtbwU-sn4p1U'}], 'enabled': False}   \n",
      "496                                                                                                                                                                                                                                                                                   {'images': [{'source': {'url': 'https://preview.redd.it/08ho03ff131a1.jpg?auto=webp&amp;s=14dc6474704cb39465e59881f445331c6236b62c', 'width': 3088, 'height': 2048}, 'resolutions': [{'url': 'https://preview.redd.it/08ho03ff131a1.jpg?width=108&amp;crop=smart&amp;auto=webp&amp;s=b78e1aa1385fd5c5ae9d6328d856d2ca0fd7111c', 'width': 108, 'height': 71}, {'url': 'https://preview.redd.it/08ho03ff131a1.jpg?width=216&amp;crop=smart&amp;auto=webp&amp;s=0596a6eeb7f537a7244e14dc6e094aab43819df6', 'width': 216, 'height': 143}, {'url': 'https://preview.redd.it/08ho03ff131a1.jpg?width=320&amp;crop=smart&amp;auto=webp&amp;s=133ddd7be7913f30514438d910e7ff2cb2c49b28', 'width': 320, 'height': 212}, {'url': 'https://preview.redd.it/08ho03ff131a1.jpg?width=640&amp;crop=smart&amp;auto=webp&amp;s=980af1d0d3d59e3d2cb30cdad8c49124e3168186', 'width': 640, 'height': 424}, {'url': 'https://preview.redd.it/08ho03ff131a1.jpg?width=960&amp;crop=smart&amp;auto=webp&amp;s=0ae72e730300da61325ab0c492ed1160a2ebb10a', 'width': 960, 'height': 636}, {'url': 'https://preview.redd.it/08ho03ff131a1.jpg?width=1080&amp;crop=smart&amp;auto=webp&amp;s=e754e029cc71eccb0ea45f9e03049910d815da68', 'width': 1080, 'height': 716}], 'variants': {}, 'id': 'H3qfNWy-KHpg8alUdI-YObaUOfeKQgsiThL3Htk1CCA'}], 'enabled': True}   \n",
      "497                                                                                                                                                                                                                                                                                   {'images': [{'source': {'url': 'https://preview.redd.it/e2kzw5o0131a1.jpg?auto=webp&amp;s=5fe6d44ca5f9a6df1c5efa205804fd7a0c080699', 'width': 4032, 'height': 3024}, 'resolutions': [{'url': 'https://preview.redd.it/e2kzw5o0131a1.jpg?width=108&amp;crop=smart&amp;auto=webp&amp;s=2801662d3dd93552031ca628b525c84eb4ea8ad9', 'width': 108, 'height': 81}, {'url': 'https://preview.redd.it/e2kzw5o0131a1.jpg?width=216&amp;crop=smart&amp;auto=webp&amp;s=007e5ea59ae053da8ee0acaf94ec75ac9579c69c', 'width': 216, 'height': 162}, {'url': 'https://preview.redd.it/e2kzw5o0131a1.jpg?width=320&amp;crop=smart&amp;auto=webp&amp;s=cdfeef296cc94017c69403e3aafe5efc765ba7ab', 'width': 320, 'height': 240}, {'url': 'https://preview.redd.it/e2kzw5o0131a1.jpg?width=640&amp;crop=smart&amp;auto=webp&amp;s=d3c90ac629ecb861aa50be2a3556a48d6cf2933b', 'width': 640, 'height': 480}, {'url': 'https://preview.redd.it/e2kzw5o0131a1.jpg?width=960&amp;crop=smart&amp;auto=webp&amp;s=3da1d646e1f026b85bca87c59a8f2d489058d739', 'width': 960, 'height': 720}, {'url': 'https://preview.redd.it/e2kzw5o0131a1.jpg?width=1080&amp;crop=smart&amp;auto=webp&amp;s=ba56cfbcda5157eb964b20be328b1ec39cae8380', 'width': 1080, 'height': 810}], 'variants': {}, 'id': 'Bn_20hM6kNoO9QfVZFgNwEmHwSdkXhRFB3QY5bBpegs'}], 'enabled': True}   \n",
      "498                                                                                                                                                                                                                                                                                   {'images': [{'source': {'url': 'https://preview.redd.it/r261c0sap21a1.jpg?auto=webp&amp;s=94b67fcd142978ffe7170e9afa75758881d9a9eb', 'width': 3809, 'height': 2070}, 'resolutions': [{'url': 'https://preview.redd.it/r261c0sap21a1.jpg?width=108&amp;crop=smart&amp;auto=webp&amp;s=e864991f3ee25388d24eba3c3a0e63b2cf780ae2', 'width': 108, 'height': 58}, {'url': 'https://preview.redd.it/r261c0sap21a1.jpg?width=216&amp;crop=smart&amp;auto=webp&amp;s=88dabb625c0e19f5dde65380919306bf8f2cd980', 'width': 216, 'height': 117}, {'url': 'https://preview.redd.it/r261c0sap21a1.jpg?width=320&amp;crop=smart&amp;auto=webp&amp;s=dadd80518f5a668b80d635aaf1417ca242235f39', 'width': 320, 'height': 173}, {'url': 'https://preview.redd.it/r261c0sap21a1.jpg?width=640&amp;crop=smart&amp;auto=webp&amp;s=a4bbe8b76d1400332fd25f58e9dcfe88454f3095', 'width': 640, 'height': 347}, {'url': 'https://preview.redd.it/r261c0sap21a1.jpg?width=960&amp;crop=smart&amp;auto=webp&amp;s=b9f0554bf8ca85b42edc9b3a31d91a5d0ed97d5d', 'width': 960, 'height': 521}, {'url': 'https://preview.redd.it/r261c0sap21a1.jpg?width=1080&amp;crop=smart&amp;auto=webp&amp;s=45ce045ccb905680ffedc8456bc0477010c9e48c', 'width': 1080, 'height': 586}], 'variants': {}, 'id': '2rd4zLfKZoGx9Sjx0n-ddgqANXVTgRa4h45mWAJGSGw'}], 'enabled': True}   \n",
      "499                                                                                                                                                                                                                                                                                   {'images': [{'source': {'url': 'https://preview.redd.it/rlef70rzo21a1.jpg?auto=webp&amp;s=9fd871745ab4778cd08ce9ee3a260d94b42654ae', 'width': 4032, 'height': 2268}, 'resolutions': [{'url': 'https://preview.redd.it/rlef70rzo21a1.jpg?width=108&amp;crop=smart&amp;auto=webp&amp;s=99e909c3502cc0222b35581fa014733772721807', 'width': 108, 'height': 60}, {'url': 'https://preview.redd.it/rlef70rzo21a1.jpg?width=216&amp;crop=smart&amp;auto=webp&amp;s=0fa4db63772a1aea7c432780a02903207f88ef1b', 'width': 216, 'height': 121}, {'url': 'https://preview.redd.it/rlef70rzo21a1.jpg?width=320&amp;crop=smart&amp;auto=webp&amp;s=3bd8d67eaaf46698d856f90136fb571a6b590657', 'width': 320, 'height': 180}, {'url': 'https://preview.redd.it/rlef70rzo21a1.jpg?width=640&amp;crop=smart&amp;auto=webp&amp;s=3cfe424e44dbe377cb5c4923d7c35547b100968f', 'width': 640, 'height': 360}, {'url': 'https://preview.redd.it/rlef70rzo21a1.jpg?width=960&amp;crop=smart&amp;auto=webp&amp;s=b128192153037ad0fe81f71a53202d504b957612', 'width': 960, 'height': 540}, {'url': 'https://preview.redd.it/rlef70rzo21a1.jpg?width=1080&amp;crop=smart&amp;auto=webp&amp;s=ec0d39d3fb43053ded27de00590192926b550d1d', 'width': 1080, 'height': 607}], 'variants': {}, 'id': 'K2eIyNkPLMLCMI-5xhY1hnpzmoLxwIU9U2J53Hfwb1M'}], 'enabled': True}   \n",
      "\n",
      "    all_awardings awarders  media_only  can_gild  spoiler  locked  \\\n",
      "0              []       []       False      True    False   False   \n",
      "1              []       []       False      True    False   False   \n",
      "2              []       []       False      True    False   False   \n",
      "3              []       []       False      True    False   False   \n",
      "4              []       []       False      True    False   False   \n",
      "..            ...      ...         ...       ...      ...     ...   \n",
      "495            []       []       False      True    False   False   \n",
      "496            []       []       False      True    False   False   \n",
      "497            []       []       False      True    False   False   \n",
      "498            []       []       False      True    False   False   \n",
      "499            []       []       False      True    False   False   \n",
      "\n",
      "    author_flair_text treatment_tags removed_by distinguished subreddit_id  \\\n",
      "0                   📷             []       None          None     t5_2sbq3   \n",
      "1                   .             []       None          None     t5_2sbq3   \n",
      "2                   📷             []       None          None     t5_2sbq3   \n",
      "3                   .             []       None          None     t5_2sbq3   \n",
      "4                                 []       None          None     t5_2sbq3   \n",
      "..                ...            ...        ...           ...          ...   \n",
      "495              None             []       None          None     t5_2sbq3   \n",
      "496                 .             []       None          None     t5_2sbq3   \n",
      "497              None             []       None          None     t5_2sbq3   \n",
      "498                 .             []       None          None     t5_2sbq3   \n",
      "499                 .             []       None          None     t5_2sbq3   \n",
      "\n",
      "    link_flair_background_color      id  is_robot_indexable  \\\n",
      "0                                z1e7kd                True   \n",
      "1                                z1e66r                True   \n",
      "2                                z1cicg                True   \n",
      "3                                z1bzmz                True   \n",
      "4                                z1bfc2                True   \n",
      "..                          ...     ...                 ...   \n",
      "495                              yzw5xw               False   \n",
      "496                              yzw19e                True   \n",
      "497                              yzvzv4               False   \n",
      "498                              yzuu1i                True   \n",
      "499                              yzut1w                True   \n",
      "\n",
      "                   author discussion_type  num_comments  send_replies  \\\n",
      "0              Chipotle42            None             1          True   \n",
      "1      this_wandering_day            None             1          True   \n",
      "2                bobetomi            None             1          True   \n",
      "3     Important-Bear-5411            None             1          True   \n",
      "4          trip_with_hari            None             1          True   \n",
      "..                    ...             ...           ...           ...   \n",
      "495            Tharry8570            None             1          True   \n",
      "496     Southphltrashfire            None             1          True   \n",
      "497  BelligerentHorticult            None             1          True   \n",
      "498              VenomXTs            None             1          True   \n",
      "499             emily_117            None             1          True   \n",
      "\n",
      "    whitelist_status  contest_mode  author_patreon_flair  \\\n",
      "0            all_ads         False                 False   \n",
      "1            all_ads         False                 False   \n",
      "2            all_ads         False                 False   \n",
      "3            all_ads         False                 False   \n",
      "4            all_ads         False                 False   \n",
      "..               ...           ...                   ...   \n",
      "495          all_ads         False                 False   \n",
      "496          all_ads         False                 False   \n",
      "497          all_ads         False                 False   \n",
      "498          all_ads         False                 False   \n",
      "499          all_ads         False                 False   \n",
      "\n",
      "    author_flair_text_color  \\\n",
      "0                      dark   \n",
      "1                      dark   \n",
      "2                      dark   \n",
      "3                      dark   \n",
      "4                      dark   \n",
      "..                      ...   \n",
      "495                    None   \n",
      "496                    dark   \n",
      "497                    None   \n",
      "498                    dark   \n",
      "499                    dark   \n",
      "\n",
      "                                                                           permalink  \\\n",
      "0      /r/EarthPorn/comments/z1e7kd/waimea_canyon_kauai_colorful_even_on_a_hazy_day/   \n",
      "1          /r/EarthPorn/comments/z1e66r/a_fiery_sunrise_at_canyonlands_oc_4100x2700/   \n",
      "2     /r/EarthPorn/comments/z1cicg/white_sands_national_park_new_mexico_oc6482_3185/   \n",
      "3                  /r/EarthPorn/comments/z1bzmz/lixian_sichuan_china_oc_3024_x_4032/   \n",
      "4    /r/EarthPorn/comments/z1bfc2/fall_and_snow_paining_from_yosemite_national_park/   \n",
      "..                                                                               ...   \n",
      "495    /r/EarthPorn/comments/yzw5xw/another_insolvency_recording_shows_the_worth_of/   \n",
      "496                       /r/EarthPorn/comments/yzw19e/jackson_hole_wy_oc_2300x2100/   \n",
      "497           /r/EarthPorn/comments/yzvzv4/does_this_count_i_like_the_tree_a_lot_oc/   \n",
      "498                 /r/EarthPorn/comments/yzuu1i/slick_rock_in_texas_3809_x_2070_oc/   \n",
      "499                   /r/EarthPorn/comments/yzut1w/arches_national_parkoc_4032x2268/   \n",
      "\n",
      "    parent_whitelist_status  stickied  \\\n",
      "0                   all_ads     False   \n",
      "1                   all_ads     False   \n",
      "2                   all_ads     False   \n",
      "3                   all_ads     False   \n",
      "4                   all_ads     False   \n",
      "..                      ...       ...   \n",
      "495                 all_ads     False   \n",
      "496                 all_ads     False   \n",
      "497                 all_ads     False   \n",
      "498                 all_ads     False   \n",
      "499                 all_ads     False   \n",
      "\n",
      "                                                                             url  \\\n",
      "0                                            https://i.redd.it/0p41a8xt1e1a1.jpg   \n",
      "1                                            https://i.redd.it/d680tr8xlf1a1.jpg   \n",
      "2                                            https://i.redd.it/8ess1pn3sd1a1.jpg   \n",
      "3                                            https://i.redd.it/vhq3nfw76f1a1.jpg   \n",
      "4                                            https://i.redd.it/iow0t7dikd1a1.jpg   \n",
      "..                                                                           ...   \n",
      "495  https://www.ttowards.us/2022/11/another-insolvency-recording-shows.html?m=1   \n",
      "496                                          https://i.redd.it/08ho03ff131a1.jpg   \n",
      "497                                          https://i.redd.it/e2kzw5o0131a1.jpg   \n",
      "498                                          https://i.redd.it/r261c0sap21a1.jpg   \n",
      "499                                          https://i.redd.it/rlef70rzo21a1.jpg   \n",
      "\n",
      "     subreddit_subscribers  created_utc  num_crossposts media  is_video  \\\n",
      "0                 22798920   1669074096               0  None     False   \n",
      "1                 22798917   1669073999               0  None     False   \n",
      "2                 22798774   1669069944               0  None     False   \n",
      "3                 22798735   1669068741               0  None     False   \n",
      "4                 22798686   1669067462               0  None     False   \n",
      "..                     ...          ...             ...   ...       ...   \n",
      "495               22793578   1668922268               0  None     False   \n",
      "496               22793563   1668921823               0  None     False   \n",
      "497               22793557   1668921685               0  None     False   \n",
      "498               22793437   1668917743               0  None     False   \n",
      "499               22793431   1668917654               0  None     False   \n",
      "\n",
      "     retrieved_utc  updated_utc     utc_datetime_str author_cakeday  \n",
      "0       1669074106   1669819392  2022-11-21 23:41:36            NaN  \n",
      "1       1669074010   1669819392  2022-11-21 23:39:59            NaN  \n",
      "2       1669069957   1669819413  2022-11-21 22:32:24            NaN  \n",
      "3       1669068756   1669819419  2022-11-21 22:12:21            NaN  \n",
      "4       1669067472   1669819426  2022-11-21 21:51:02            NaN  \n",
      "..             ...          ...                  ...            ...  \n",
      "495     1668922307   1669819949  2022-11-20 05:31:08            NaN  \n",
      "496     1668921835   1669819949  2022-11-20 05:23:43            NaN  \n",
      "497     1668921698   1669819950  2022-11-20 05:21:25            NaN  \n",
      "498     1668917760   1669819962  2022-11-20 04:15:43            NaN  \n",
      "499     1668917668   1669819962  2022-11-20 04:14:14            NaN  \n",
      "\n",
      "[500 rows x 90 columns]\n"
     ]
    }
   ],
   "source": [
    "pd.set_option('display.max_columns', None)\n",
    "pd.set_option('display.max_row', 25)\n",
    "print(posts_df)"
   ]
  },
  {
   "cell_type": "markdown",
   "metadata": {},
   "source": [
    "#### Clean up data frame"
   ]
  },
  {
   "cell_type": "markdown",
   "metadata": {},
   "source": [
    "##### Get list of all column names"
   ]
  },
  {
   "cell_type": "code",
   "execution_count": 87,
   "metadata": {},
   "outputs": [
    {
     "data": {
      "text/plain": [
       "Index(['subreddit', 'selftext', 'author_fullname', 'gilded', 'title',\n",
       "       'link_flair_richtext', 'subreddit_name_prefixed', 'hidden', 'pwls',\n",
       "       'link_flair_css_class', 'thumbnail_height', 'top_awarded_type',\n",
       "       'hide_score', 'quarantine', 'link_flair_text_color', 'upvote_ratio',\n",
       "       'author_flair_background_color', 'subreddit_type',\n",
       "       'total_awards_received', 'media_embed', 'thumbnail_width',\n",
       "       'author_flair_template_id', 'is_original_content', 'secure_media',\n",
       "       'is_reddit_media_domain', 'is_meta', 'category', 'secure_media_embed',\n",
       "       'link_flair_text', 'score', 'is_created_from_ads_ui', 'author_premium',\n",
       "       'thumbnail', 'edited', 'author_flair_css_class',\n",
       "       'author_flair_richtext', 'gildings', 'post_hint', 'content_categories',\n",
       "       'is_self', 'link_flair_type', 'wls', 'removed_by_category',\n",
       "       'author_flair_type', 'domain', 'allow_live_comments', 'suggested_sort',\n",
       "       'url_overridden_by_dest', 'view_count', 'archived', 'no_follow',\n",
       "       'is_crosspostable', 'pinned', 'over_18', 'preview', 'all_awardings',\n",
       "       'awarders', 'media_only', 'can_gild', 'spoiler', 'locked',\n",
       "       'author_flair_text', 'treatment_tags', 'removed_by', 'distinguished',\n",
       "       'subreddit_id', 'link_flair_background_color', 'id',\n",
       "       'is_robot_indexable', 'author', 'discussion_type', 'num_comments',\n",
       "       'send_replies', 'whitelist_status', 'contest_mode',\n",
       "       'author_patreon_flair', 'author_flair_text_color', 'permalink',\n",
       "       'parent_whitelist_status', 'stickied', 'url', 'subreddit_subscribers',\n",
       "       'created_utc', 'num_crossposts', 'media', 'is_video', 'retrieved_utc',\n",
       "       'updated_utc', 'utc_datetime_str', 'author_cakeday'],\n",
       "      dtype='object')"
      ]
     },
     "execution_count": 87,
     "metadata": {},
     "output_type": "execute_result"
    }
   ],
   "source": [
    "posts_df.columns"
   ]
  },
  {
   "cell_type": "markdown",
   "metadata": {},
   "source": [
    "##### Remove unwanted columns"
   ]
  },
  {
   "cell_type": "code",
   "execution_count": 88,
   "metadata": {},
   "outputs": [],
   "source": [
    "#posts_df.drop(columns = ['author_flair_css_class', 'author_flair_text'], inplace = True)\n",
    "\n",
    "#posts_df.drop(columns = ['author_flair_css_class', 'author_flair_text', 'gilded', 'mod_reports', 'user_reports', 'brand_safe', 'contest_mode', 'spoiler', 'suggested_sort', 'author_flair_richtext', 'author_flair_type', 'can_mod_post', 'link_flair_richtext', 'link_flair_text_color', 'link_flair_type', 'rte_mode', 'subreddit_type', 'thumbnail_height', 'thumbnail_width', 'author_flair_background_color', 'author_flair_text_color', 'author_patreon_flair', 'gildings', 'is_robot_indexable', 'link_flair_background_color', 'send_replies', 'no_follow', 'updated_utc', 'all_awardings', 'allow_live_comments', 'author_premium', 'awarders', 'total_awards_received', 'treatment_tags', 'is_created_from_ads_ui', 'parent_whitelist_status', 'pwls', 'url_overridden_by_dest', 'whitelist_status', 'wls', 'removed_by_category', 'author_is_blocked', 'approved_at_utc', 'banned_at_utc', 'steward_reports', 'removed_by', 'poll_data', 'top_awarded_type', 'retrieved_on'], inplace = True)"
   ]
  },
  {
   "cell_type": "markdown",
   "metadata": {},
   "source": [
    "##### Change column names and reorder columns"
   ]
  },
  {
   "cell_type": "markdown",
   "metadata": {},
   "source": [
    "1. Create dictionary - 'old name' : 'new name'"
   ]
  },
  {
   "cell_type": "code",
   "execution_count": 89,
   "metadata": {},
   "outputs": [],
   "source": [
    "column_names = {'id' : 'PostID',\n",
    "                'subreddit' : 'Subreddit',\n",
    "                'subreddit_id' : 'SubredditID',\n",
    "                'created_utc' : 'PostTime',\n",
    "                'title' : 'PostTitle',\n",
    "                'author' : 'Username',\n",
    "                'author_created_utc' : 'UserCreatedTime',\n",
    "                'author_fullname' : 'AuthorName', \n",
    "                'domain' : 'ImageDomain',\n",
    "                'full_link' : 'Link',\n",
    "                'is_self' : 'IsTextPost',\n",
    "                'media_embed' : 'EmbeddedMedia',\n",
    "                'secure_media_embed' : 'SecureEmbeddedMedia',\n",
    "                'num_comments' : 'CommentNumber', \n",
    "                'over_18' : 'NSFW',\n",
    "                'permalink' : 'Permalink', \n",
    "                'score' : 'Upvotes', \n",
    "                'selftext' : 'PostText', \n",
    "                'thumbnail' : 'Thumbnail',\n",
    "                'url' : 'ImageURL',\n",
    "                'media' : 'Media',\n",
    "                'secure_media' : 'SecureMedia',\n",
    "                'stickied' : 'Stickied',\n",
    "                'locked' : 'CommentsLocked',\n",
    "                'post_hint' : 'PostHint',\n",
    "                'preview' : 'Preview',\n",
    "                'is_crosspostable' : 'IsCrosspostable',\n",
    "                'is_reddit_media_domain' : 'IsRedditMediaDomain',\n",
    "                'is_video' : 'IsVideo',\n",
    "                'num_crossposts' : 'CrosspostsNumber', \n",
    "                'pinned' : 'Pinned',\n",
    "                'crosspost_parent' : 'CrosspostParent',\n",
    "                'crosspost_parent_list' : 'CrosspostParentList',\n",
    "                'is_meta' : 'IsMeta',\n",
    "                'is_original_content' : 'IsOriginal',\n",
    "                'media_only' : 'OnlyMedia', \n",
    "                'subreddit_subscribers' : 'SubRedditSubscribers',\n",
    "                'media_metadata' : 'MediaMetadata', \n",
    "                'upvote_ratio' : 'UpvoteRatio', \n",
    "                'gallery_data' : 'GalleryData', \n",
    "                'is_gallery' : 'IsGallery', \n",
    "                'author_cakeday' : 'AuthorBirthdate',\n",
    "                'edited' : 'Edited', \n",
    "                'view_count' : 'ViewCount', \n",
    "                'author_id' : 'AuthorID',\n",
    "                'og_description' : 'OGDescription',\n",
    "                'og_title' : 'OGTitle'}"
   ]
  },
  {
   "cell_type": "markdown",
   "metadata": {},
   "source": [
    "2. Rename columns using dictionary"
   ]
  },
  {
   "cell_type": "code",
   "execution_count": 92,
   "metadata": {},
   "outputs": [
    {
     "data": {
      "text/plain": [
       "Index(['Subreddit', 'PostText', 'AuthorName', 'gilded', 'PostTitle',\n",
       "       'link_flair_richtext', 'subreddit_name_prefixed', 'hidden', 'pwls',\n",
       "       'link_flair_css_class', 'thumbnail_height', 'top_awarded_type',\n",
       "       'hide_score', 'quarantine', 'link_flair_text_color', 'UpvoteRatio',\n",
       "       'author_flair_background_color', 'subreddit_type',\n",
       "       'total_awards_received', 'EmbeddedMedia', 'thumbnail_width',\n",
       "       'author_flair_template_id', 'IsOriginal', 'SecureMedia',\n",
       "       'IsRedditMediaDomain', 'IsMeta', 'category', 'SecureEmbeddedMedia',\n",
       "       'link_flair_text', 'Upvotes', 'is_created_from_ads_ui',\n",
       "       'author_premium', 'Thumbnail', 'Edited', 'author_flair_css_class',\n",
       "       'author_flair_richtext', 'gildings', 'PostHint', 'content_categories',\n",
       "       'IsTextPost', 'link_flair_type', 'wls', 'removed_by_category',\n",
       "       'author_flair_type', 'ImageDomain', 'allow_live_comments',\n",
       "       'suggested_sort', 'url_overridden_by_dest', 'ViewCount', 'archived',\n",
       "       'no_follow', 'IsCrosspostable', 'Pinned', 'NSFW', 'Preview',\n",
       "       'all_awardings', 'awarders', 'OnlyMedia', 'can_gild', 'spoiler',\n",
       "       'CommentsLocked', 'author_flair_text', 'treatment_tags', 'removed_by',\n",
       "       'distinguished', 'SubredditID', 'link_flair_background_color', 'PostID',\n",
       "       'is_robot_indexable', 'Username', 'discussion_type', 'CommentNumber',\n",
       "       'send_replies', 'whitelist_status', 'contest_mode',\n",
       "       'author_patreon_flair', 'author_flair_text_color', 'Permalink',\n",
       "       'parent_whitelist_status', 'Stickied', 'ImageURL',\n",
       "       'SubRedditSubscribers', 'PostTime', 'CrosspostsNumber', 'Media',\n",
       "       'IsVideo', 'retrieved_utc', 'updated_utc', 'utc_datetime_str',\n",
       "       'AuthorBirthdate'],\n",
       "      dtype='object')"
      ]
     },
     "execution_count": 92,
     "metadata": {},
     "output_type": "execute_result"
    }
   ],
   "source": [
    "posts_tidy_df = posts_df.rename(columns = column_names)\n",
    "# Check to see if columns have been renamed\n",
    "posts_tidy_df.columns "
   ]
  },
  {
   "cell_type": "markdown",
   "metadata": {},
   "source": [
    "3. Reorder columns"
   ]
  },
  {
   "cell_type": "code",
   "execution_count": 104,
   "metadata": {},
   "outputs": [
    {
     "data": {
      "text/plain": [
       "500"
      ]
     },
     "execution_count": 104,
     "metadata": {},
     "output_type": "execute_result"
    }
   ],
   "source": [
    "sum(posts_tidy_df['removed_by_category'] != True)"
   ]
  },
  {
   "cell_type": "code",
   "execution_count": 67,
   "metadata": {},
   "outputs": [],
   "source": [
    "#posts_tidy_df = posts_tidy_df[['Subreddit', 'SubredditID', 'PostTitle', 'PostID', 'PostTime', 'Username', 'Upvotes', 'CommentNumber', 'ImageDomain', 'ImageURL', 'UserCreatedTime', 'AuthorName', 'Permalink', 'Link', 'IsTextPost', 'PostText', 'EmbeddedMedia', 'Thumbnail', 'NSFW']]\n",
    "\n",
    "#posts_tidy_df = posts_tidy_df[['Subreddit', 'SubredditID', 'PostTitle', 'PostID', 'PostTime', 'Username', 'Upvotes', 'CommentNumber', 'ImageDomain', 'ImageURL', 'AuthorName', 'Permalink', 'IsTextPost', 'PostText', 'EmbeddedMedia', 'Thumbnail', 'NSFW']]\n",
    "                                       \n",
    "posts_tidy_df = posts_tidy_df[['Subreddit', 'SubredditID', 'PostTitle', 'PostID', 'PostTime', 'Username', 'Upvotes', 'CommentNumber', 'ImageDomain', 'ImageURL', 'Permalink', 'IsTextPost', 'PostText', 'EmbeddedMedia', 'Thumbnail', 'NSFW']]\n",
    "\n",
    "#posts_reordered_df = posts_renamed_df[['Subreddit', 'SubredditID', 'PostTitle', 'PostID', 'PostTime', 'Username', 'ViewCount', 'Upvotes', 'UpvoteRatio', 'CommentNumber', 'Edited', 'OGDescription', 'OGTitle', 'ImageDomain', 'ImageURL', 'Permalink', 'Link', 'IsTextPost', 'PostText', 'UserCreatedTime', 'AuthorID', 'AuthorName', 'AuthorBirthdate', 'IsVideo', 'IsMeta', 'IsOriginal', 'IsGallery', 'GalleryData', 'IsRedditMediaDomain', 'IsCrosspostable', 'CrosspostsNumber', 'CrosspostParent', 'CrosspostParentList', 'SubRedditSubscribers', 'OnlyMedia', 'MediaMetadata', 'EmbeddedMedia', 'SecureEmbeddedMedia', 'Media', 'SecureMedia', 'Thumbnail', 'Stickied', 'Pinned', 'PostHint', 'Preview', 'CommentsLocked', 'NSFW']]"
   ]
  },
  {
   "cell_type": "markdown",
   "metadata": {},
   "source": [
    "Convert time stamp from UNIX to UTC"
   ]
  },
  {
   "cell_type": "code",
   "execution_count": 68,
   "metadata": {},
   "outputs": [],
   "source": [
    "posts_tidy_df['PostTime'] = pd.to_datetime(posts_tidy_df['PostTime'], utc=True, unit='s')"
   ]
  },
  {
   "cell_type": "markdown",
   "metadata": {},
   "source": [
    "#### Fix image URLS"
   ]
  },
  {
   "cell_type": "code",
   "execution_count": 69,
   "metadata": {},
   "outputs": [
    {
     "name": "stdout",
     "output_type": "stream",
     "text": [
      "https://flickr.com/photos/atilla2008/52663768874/sizes/3k/\n",
      "None\n"
     ]
    }
   ],
   "source": [
    "#posts_tidy_df = posts_tidy_df.reindex(columns = posts_tidy_df.columns.tolist() + ['NewURL']) #create column for fixed urls\n",
    "\n",
    "for index, row in posts_tidy_df.iterrows():\n",
    "    if row['ImageDomain'] == 'flickr.com':\n",
    "        print(row['ImageURL'])\n",
    "        r = requests.get(row['ImageURL'])\n",
    "        soup = bs(r.content)\n",
    "        images = re.findall(r'(https:\\/\\/live\\.staticflickr\\.com\\/[0-9][0-9][0-9][0-9]\\/[a-zA-Z0-9_]+\\.(?:png|jpg|jpeg|gif|png|svg))', str(soup))\n",
    "        image_url = None\n",
    "        for image in images:\n",
    "            image_url = image\n",
    "            break\n",
    "        print(image_url)\n",
    "        if image_url != None:\n",
    "            posts_tidy_df.at[index, 'NewURL'] = image_url\n",
    "    elif row['ImageDomain'] == 'imgur.com':\n",
    "        posts_tidy_df.at[index, 'NewURL'] = re.sub(r'http://imgur.com', 'http://i.imgur.com', row['ImageURL']) + '.jpg'\n",
    "    elif row['ImageDomain'] == 'i.imgur.com':\n",
    "        posts_tidy_df.at[index, 'NewURL'] = row['ImageURL']\n",
    "    elif row['ImageDomain'] == 'i.redd.it':\n",
    "        posts_tidy_df.at[index, 'NewURL'] = row['ImageURL']\n",
    "    else:\n",
    "        continue"
   ]
  },
  {
   "cell_type": "code",
   "execution_count": 76,
   "metadata": {},
   "outputs": [
    {
     "data": {
      "text/plain": [
       "14"
      ]
     },
     "execution_count": 76,
     "metadata": {},
     "output_type": "execute_result"
    }
   ],
   "source": [
    "# Der er ikke så mange andre billeder som ikke har upvotes anderledes end 1\n",
    "sum(posts_tidy_df['Upvotes'] != 1)"
   ]
  },
  {
   "cell_type": "code",
   "execution_count": 71,
   "metadata": {},
   "outputs": [
    {
     "name": "stdout",
     "output_type": "stream",
     "text": [
      "Rows before:  500\n"
     ]
    },
    {
     "ename": "TypeError",
     "evalue": "unhashable type: 'dict'",
     "output_type": "error",
     "traceback": [
      "\u001b[0;31m---------------------------------------------------------------------------\u001b[0m",
      "\u001b[0;31mTypeError\u001b[0m                                 Traceback (most recent call last)",
      "\u001b[0;32m/var/folders/_6/l3776shn2kq8j4f7hm3qr5bh0000gn/T/ipykernel_1373/79941948.py\u001b[0m in \u001b[0;36m<module>\u001b[0;34m\u001b[0m\n\u001b[1;32m      1\u001b[0m \u001b[0mprint\u001b[0m\u001b[0;34m(\u001b[0m\u001b[0;34m\"Rows before: \"\u001b[0m\u001b[0;34m,\u001b[0m \u001b[0mlen\u001b[0m\u001b[0;34m(\u001b[0m\u001b[0mposts_tidy_df\u001b[0m\u001b[0;34m)\u001b[0m\u001b[0;34m)\u001b[0m\u001b[0;34m\u001b[0m\u001b[0;34m\u001b[0m\u001b[0m\n\u001b[1;32m      2\u001b[0m \u001b[0mposts_tidy_df\u001b[0m \u001b[0;34m=\u001b[0m \u001b[0mposts_tidy_df\u001b[0m\u001b[0;34m.\u001b[0m\u001b[0mdropna\u001b[0m\u001b[0;34m(\u001b[0m\u001b[0;34m)\u001b[0m\u001b[0;34m\u001b[0m\u001b[0;34m\u001b[0m\u001b[0m\n\u001b[0;32m----> 3\u001b[0;31m \u001b[0mposts_tidy_df\u001b[0m \u001b[0;34m=\u001b[0m \u001b[0mposts_tidy_df\u001b[0m\u001b[0;34m.\u001b[0m\u001b[0mdrop_duplicates\u001b[0m\u001b[0;34m(\u001b[0m\u001b[0;34m)\u001b[0m\u001b[0;34m\u001b[0m\u001b[0;34m\u001b[0m\u001b[0m\n\u001b[0m\u001b[1;32m      4\u001b[0m \u001b[0mprint\u001b[0m\u001b[0;34m(\u001b[0m\u001b[0;34m\"Rows after: \"\u001b[0m\u001b[0;34m,\u001b[0m \u001b[0mlen\u001b[0m\u001b[0;34m(\u001b[0m\u001b[0mposts_tidy_df\u001b[0m\u001b[0;34m)\u001b[0m\u001b[0;34m)\u001b[0m\u001b[0;34m\u001b[0m\u001b[0;34m\u001b[0m\u001b[0m\n",
      "\u001b[0;32m~/opt/anaconda3/lib/python3.8/site-packages/pandas/util/_decorators.py\u001b[0m in \u001b[0;36mwrapper\u001b[0;34m(*args, **kwargs)\u001b[0m\n\u001b[1;32m    309\u001b[0m                     \u001b[0mstacklevel\u001b[0m\u001b[0;34m=\u001b[0m\u001b[0mstacklevel\u001b[0m\u001b[0;34m,\u001b[0m\u001b[0;34m\u001b[0m\u001b[0;34m\u001b[0m\u001b[0m\n\u001b[1;32m    310\u001b[0m                 )\n\u001b[0;32m--> 311\u001b[0;31m             \u001b[0;32mreturn\u001b[0m \u001b[0mfunc\u001b[0m\u001b[0;34m(\u001b[0m\u001b[0;34m*\u001b[0m\u001b[0margs\u001b[0m\u001b[0;34m,\u001b[0m \u001b[0;34m**\u001b[0m\u001b[0mkwargs\u001b[0m\u001b[0;34m)\u001b[0m\u001b[0;34m\u001b[0m\u001b[0;34m\u001b[0m\u001b[0m\n\u001b[0m\u001b[1;32m    312\u001b[0m \u001b[0;34m\u001b[0m\u001b[0m\n\u001b[1;32m    313\u001b[0m         \u001b[0;32mreturn\u001b[0m \u001b[0mwrapper\u001b[0m\u001b[0;34m\u001b[0m\u001b[0;34m\u001b[0m\u001b[0m\n",
      "\u001b[0;32m~/opt/anaconda3/lib/python3.8/site-packages/pandas/core/frame.py\u001b[0m in \u001b[0;36mdrop_duplicates\u001b[0;34m(self, subset, keep, inplace, ignore_index)\u001b[0m\n\u001b[1;32m   6123\u001b[0m         \u001b[0minplace\u001b[0m \u001b[0;34m=\u001b[0m \u001b[0mvalidate_bool_kwarg\u001b[0m\u001b[0;34m(\u001b[0m\u001b[0minplace\u001b[0m\u001b[0;34m,\u001b[0m \u001b[0;34m\"inplace\"\u001b[0m\u001b[0;34m)\u001b[0m\u001b[0;34m\u001b[0m\u001b[0;34m\u001b[0m\u001b[0m\n\u001b[1;32m   6124\u001b[0m         \u001b[0mignore_index\u001b[0m \u001b[0;34m=\u001b[0m \u001b[0mvalidate_bool_kwarg\u001b[0m\u001b[0;34m(\u001b[0m\u001b[0mignore_index\u001b[0m\u001b[0;34m,\u001b[0m \u001b[0;34m\"ignore_index\"\u001b[0m\u001b[0;34m)\u001b[0m\u001b[0;34m\u001b[0m\u001b[0;34m\u001b[0m\u001b[0m\n\u001b[0;32m-> 6125\u001b[0;31m         \u001b[0mduplicated\u001b[0m \u001b[0;34m=\u001b[0m \u001b[0mself\u001b[0m\u001b[0;34m.\u001b[0m\u001b[0mduplicated\u001b[0m\u001b[0;34m(\u001b[0m\u001b[0msubset\u001b[0m\u001b[0;34m,\u001b[0m \u001b[0mkeep\u001b[0m\u001b[0;34m=\u001b[0m\u001b[0mkeep\u001b[0m\u001b[0;34m)\u001b[0m\u001b[0;34m\u001b[0m\u001b[0;34m\u001b[0m\u001b[0m\n\u001b[0m\u001b[1;32m   6126\u001b[0m \u001b[0;34m\u001b[0m\u001b[0m\n\u001b[1;32m   6127\u001b[0m         \u001b[0mresult\u001b[0m \u001b[0;34m=\u001b[0m \u001b[0mself\u001b[0m\u001b[0;34m[\u001b[0m\u001b[0;34m-\u001b[0m\u001b[0mduplicated\u001b[0m\u001b[0;34m]\u001b[0m\u001b[0;34m\u001b[0m\u001b[0;34m\u001b[0m\u001b[0m\n",
      "\u001b[0;32m~/opt/anaconda3/lib/python3.8/site-packages/pandas/core/frame.py\u001b[0m in \u001b[0;36mduplicated\u001b[0;34m(self, subset, keep)\u001b[0m\n\u001b[1;32m   6260\u001b[0m \u001b[0;34m\u001b[0m\u001b[0m\n\u001b[1;32m   6261\u001b[0m         \u001b[0mvals\u001b[0m \u001b[0;34m=\u001b[0m \u001b[0;34m(\u001b[0m\u001b[0mcol\u001b[0m\u001b[0;34m.\u001b[0m\u001b[0mvalues\u001b[0m \u001b[0;32mfor\u001b[0m \u001b[0mname\u001b[0m\u001b[0;34m,\u001b[0m \u001b[0mcol\u001b[0m \u001b[0;32min\u001b[0m \u001b[0mself\u001b[0m\u001b[0;34m.\u001b[0m\u001b[0mitems\u001b[0m\u001b[0;34m(\u001b[0m\u001b[0;34m)\u001b[0m \u001b[0;32mif\u001b[0m \u001b[0mname\u001b[0m \u001b[0;32min\u001b[0m \u001b[0msubset\u001b[0m\u001b[0;34m)\u001b[0m\u001b[0;34m\u001b[0m\u001b[0;34m\u001b[0m\u001b[0m\n\u001b[0;32m-> 6262\u001b[0;31m         \u001b[0mlabels\u001b[0m\u001b[0;34m,\u001b[0m \u001b[0mshape\u001b[0m \u001b[0;34m=\u001b[0m \u001b[0mmap\u001b[0m\u001b[0;34m(\u001b[0m\u001b[0mlist\u001b[0m\u001b[0;34m,\u001b[0m \u001b[0mzip\u001b[0m\u001b[0;34m(\u001b[0m\u001b[0;34m*\u001b[0m\u001b[0mmap\u001b[0m\u001b[0;34m(\u001b[0m\u001b[0mf\u001b[0m\u001b[0;34m,\u001b[0m \u001b[0mvals\u001b[0m\u001b[0;34m)\u001b[0m\u001b[0;34m)\u001b[0m\u001b[0;34m)\u001b[0m\u001b[0;34m\u001b[0m\u001b[0;34m\u001b[0m\u001b[0m\n\u001b[0m\u001b[1;32m   6263\u001b[0m \u001b[0;34m\u001b[0m\u001b[0m\n\u001b[1;32m   6264\u001b[0m         ids = get_group_index(\n",
      "\u001b[0;32m~/opt/anaconda3/lib/python3.8/site-packages/pandas/core/frame.py\u001b[0m in \u001b[0;36mf\u001b[0;34m(vals)\u001b[0m\n\u001b[1;32m   6233\u001b[0m \u001b[0;34m\u001b[0m\u001b[0m\n\u001b[1;32m   6234\u001b[0m         \u001b[0;32mdef\u001b[0m \u001b[0mf\u001b[0m\u001b[0;34m(\u001b[0m\u001b[0mvals\u001b[0m\u001b[0;34m)\u001b[0m \u001b[0;34m->\u001b[0m \u001b[0mtuple\u001b[0m\u001b[0;34m[\u001b[0m\u001b[0mnp\u001b[0m\u001b[0;34m.\u001b[0m\u001b[0mndarray\u001b[0m\u001b[0;34m,\u001b[0m \u001b[0mint\u001b[0m\u001b[0;34m]\u001b[0m\u001b[0;34m:\u001b[0m\u001b[0;34m\u001b[0m\u001b[0;34m\u001b[0m\u001b[0m\n\u001b[0;32m-> 6235\u001b[0;31m             \u001b[0mlabels\u001b[0m\u001b[0;34m,\u001b[0m \u001b[0mshape\u001b[0m \u001b[0;34m=\u001b[0m \u001b[0malgorithms\u001b[0m\u001b[0;34m.\u001b[0m\u001b[0mfactorize\u001b[0m\u001b[0;34m(\u001b[0m\u001b[0mvals\u001b[0m\u001b[0;34m,\u001b[0m \u001b[0msize_hint\u001b[0m\u001b[0;34m=\u001b[0m\u001b[0mlen\u001b[0m\u001b[0;34m(\u001b[0m\u001b[0mself\u001b[0m\u001b[0;34m)\u001b[0m\u001b[0;34m)\u001b[0m\u001b[0;34m\u001b[0m\u001b[0;34m\u001b[0m\u001b[0m\n\u001b[0m\u001b[1;32m   6236\u001b[0m             \u001b[0;32mreturn\u001b[0m \u001b[0mlabels\u001b[0m\u001b[0;34m.\u001b[0m\u001b[0mastype\u001b[0m\u001b[0;34m(\u001b[0m\u001b[0;34m\"i8\"\u001b[0m\u001b[0;34m,\u001b[0m \u001b[0mcopy\u001b[0m\u001b[0;34m=\u001b[0m\u001b[0;32mFalse\u001b[0m\u001b[0;34m)\u001b[0m\u001b[0;34m,\u001b[0m \u001b[0mlen\u001b[0m\u001b[0;34m(\u001b[0m\u001b[0mshape\u001b[0m\u001b[0;34m)\u001b[0m\u001b[0;34m\u001b[0m\u001b[0;34m\u001b[0m\u001b[0m\n\u001b[1;32m   6237\u001b[0m \u001b[0;34m\u001b[0m\u001b[0m\n",
      "\u001b[0;32m~/opt/anaconda3/lib/python3.8/site-packages/pandas/core/algorithms.py\u001b[0m in \u001b[0;36mfactorize\u001b[0;34m(values, sort, na_sentinel, size_hint)\u001b[0m\n\u001b[1;32m    761\u001b[0m             \u001b[0mna_value\u001b[0m \u001b[0;34m=\u001b[0m \u001b[0;32mNone\u001b[0m\u001b[0;34m\u001b[0m\u001b[0;34m\u001b[0m\u001b[0m\n\u001b[1;32m    762\u001b[0m \u001b[0;34m\u001b[0m\u001b[0m\n\u001b[0;32m--> 763\u001b[0;31m         codes, uniques = factorize_array(\n\u001b[0m\u001b[1;32m    764\u001b[0m             \u001b[0mvalues\u001b[0m\u001b[0;34m,\u001b[0m \u001b[0mna_sentinel\u001b[0m\u001b[0;34m=\u001b[0m\u001b[0mna_sentinel\u001b[0m\u001b[0;34m,\u001b[0m \u001b[0msize_hint\u001b[0m\u001b[0;34m=\u001b[0m\u001b[0msize_hint\u001b[0m\u001b[0;34m,\u001b[0m \u001b[0mna_value\u001b[0m\u001b[0;34m=\u001b[0m\u001b[0mna_value\u001b[0m\u001b[0;34m\u001b[0m\u001b[0;34m\u001b[0m\u001b[0m\n\u001b[1;32m    765\u001b[0m         )\n",
      "\u001b[0;32m~/opt/anaconda3/lib/python3.8/site-packages/pandas/core/algorithms.py\u001b[0m in \u001b[0;36mfactorize_array\u001b[0;34m(values, na_sentinel, size_hint, na_value, mask)\u001b[0m\n\u001b[1;32m    558\u001b[0m \u001b[0;34m\u001b[0m\u001b[0m\n\u001b[1;32m    559\u001b[0m     \u001b[0mtable\u001b[0m \u001b[0;34m=\u001b[0m \u001b[0mhash_klass\u001b[0m\u001b[0;34m(\u001b[0m\u001b[0msize_hint\u001b[0m \u001b[0;32mor\u001b[0m \u001b[0mlen\u001b[0m\u001b[0;34m(\u001b[0m\u001b[0mvalues\u001b[0m\u001b[0;34m)\u001b[0m\u001b[0;34m)\u001b[0m\u001b[0;34m\u001b[0m\u001b[0;34m\u001b[0m\u001b[0m\n\u001b[0;32m--> 560\u001b[0;31m     uniques, codes = table.factorize(\n\u001b[0m\u001b[1;32m    561\u001b[0m         \u001b[0mvalues\u001b[0m\u001b[0;34m,\u001b[0m \u001b[0mna_sentinel\u001b[0m\u001b[0;34m=\u001b[0m\u001b[0mna_sentinel\u001b[0m\u001b[0;34m,\u001b[0m \u001b[0mna_value\u001b[0m\u001b[0;34m=\u001b[0m\u001b[0mna_value\u001b[0m\u001b[0;34m,\u001b[0m \u001b[0mmask\u001b[0m\u001b[0;34m=\u001b[0m\u001b[0mmask\u001b[0m\u001b[0;34m\u001b[0m\u001b[0;34m\u001b[0m\u001b[0m\n\u001b[1;32m    562\u001b[0m     )\n",
      "\u001b[0;32mpandas/_libs/hashtable_class_helper.pxi\u001b[0m in \u001b[0;36mpandas._libs.hashtable.PyObjectHashTable.factorize\u001b[0;34m()\u001b[0m\n",
      "\u001b[0;32mpandas/_libs/hashtable_class_helper.pxi\u001b[0m in \u001b[0;36mpandas._libs.hashtable.PyObjectHashTable._unique\u001b[0;34m()\u001b[0m\n",
      "\u001b[0;31mTypeError\u001b[0m: unhashable type: 'dict'"
     ]
    }
   ],
   "source": [
    "print(\"Rows before: \", len(posts_tidy_df))\n",
    "posts_tidy_df = posts_tidy_df.dropna()\n",
    "posts_tidy_df = posts_tidy_df.drop_duplicates()\n",
    "print(\"Rows after: \", len(posts_tidy_df))"
   ]
  },
  {
   "cell_type": "markdown",
   "metadata": {},
   "source": [
    "## Save data frame and images"
   ]
  },
  {
   "cell_type": "markdown",
   "metadata": {},
   "source": [
    "#### View data frame"
   ]
  },
  {
   "cell_type": "code",
   "execution_count": null,
   "metadata": {},
   "outputs": [
    {
     "data": {
      "text/html": [
       "<div>\n",
       "<style scoped>\n",
       "    .dataframe tbody tr th:only-of-type {\n",
       "        vertical-align: middle;\n",
       "    }\n",
       "\n",
       "    .dataframe tbody tr th {\n",
       "        vertical-align: top;\n",
       "    }\n",
       "\n",
       "    .dataframe thead th {\n",
       "        text-align: right;\n",
       "    }\n",
       "</style>\n",
       "<table border=\"1\" class=\"dataframe\">\n",
       "  <thead>\n",
       "    <tr style=\"text-align: right;\">\n",
       "      <th></th>\n",
       "      <th>Subreddit</th>\n",
       "      <th>PostText</th>\n",
       "      <th>AuthorName</th>\n",
       "      <th>gilded</th>\n",
       "      <th>PostTitle</th>\n",
       "      <th>link_flair_richtext</th>\n",
       "      <th>subreddit_name_prefixed</th>\n",
       "      <th>hidden</th>\n",
       "      <th>pwls</th>\n",
       "      <th>link_flair_css_class</th>\n",
       "      <th>thumbnail_height</th>\n",
       "      <th>top_awarded_type</th>\n",
       "      <th>hide_score</th>\n",
       "      <th>quarantine</th>\n",
       "      <th>link_flair_text_color</th>\n",
       "      <th>UpvoteRatio</th>\n",
       "      <th>author_flair_background_color</th>\n",
       "      <th>subreddit_type</th>\n",
       "      <th>total_awards_received</th>\n",
       "      <th>EmbeddedMedia</th>\n",
       "      <th>thumbnail_width</th>\n",
       "      <th>author_flair_template_id</th>\n",
       "      <th>IsOriginal</th>\n",
       "      <th>SecureMedia</th>\n",
       "      <th>IsRedditMediaDomain</th>\n",
       "      <th>IsMeta</th>\n",
       "      <th>category</th>\n",
       "      <th>SecureEmbeddedMedia</th>\n",
       "      <th>link_flair_text</th>\n",
       "      <th>Upvotes</th>\n",
       "      <th>is_created_from_ads_ui</th>\n",
       "      <th>author_premium</th>\n",
       "      <th>Thumbnail</th>\n",
       "      <th>Edited</th>\n",
       "      <th>author_flair_css_class</th>\n",
       "      <th>author_flair_richtext</th>\n",
       "      <th>gildings</th>\n",
       "      <th>PostHint</th>\n",
       "      <th>content_categories</th>\n",
       "      <th>IsTextPost</th>\n",
       "      <th>link_flair_type</th>\n",
       "      <th>wls</th>\n",
       "      <th>removed_by_category</th>\n",
       "      <th>author_flair_type</th>\n",
       "      <th>ImageDomain</th>\n",
       "      <th>allow_live_comments</th>\n",
       "      <th>suggested_sort</th>\n",
       "      <th>url_overridden_by_dest</th>\n",
       "      <th>ViewCount</th>\n",
       "      <th>archived</th>\n",
       "      <th>no_follow</th>\n",
       "      <th>IsCrosspostable</th>\n",
       "      <th>Pinned</th>\n",
       "      <th>NSFW</th>\n",
       "      <th>Preview</th>\n",
       "      <th>all_awardings</th>\n",
       "      <th>awarders</th>\n",
       "      <th>OnlyMedia</th>\n",
       "      <th>can_gild</th>\n",
       "      <th>spoiler</th>\n",
       "      <th>CommentsLocked</th>\n",
       "      <th>author_flair_text</th>\n",
       "      <th>treatment_tags</th>\n",
       "      <th>removed_by</th>\n",
       "      <th>distinguished</th>\n",
       "      <th>SubredditID</th>\n",
       "      <th>link_flair_background_color</th>\n",
       "      <th>PostID</th>\n",
       "      <th>is_robot_indexable</th>\n",
       "      <th>Username</th>\n",
       "      <th>discussion_type</th>\n",
       "      <th>CommentNumber</th>\n",
       "      <th>send_replies</th>\n",
       "      <th>whitelist_status</th>\n",
       "      <th>contest_mode</th>\n",
       "      <th>author_patreon_flair</th>\n",
       "      <th>author_flair_text_color</th>\n",
       "      <th>Permalink</th>\n",
       "      <th>parent_whitelist_status</th>\n",
       "      <th>Stickied</th>\n",
       "      <th>ImageURL</th>\n",
       "      <th>SubRedditSubscribers</th>\n",
       "      <th>PostTime</th>\n",
       "      <th>CrosspostsNumber</th>\n",
       "      <th>Media</th>\n",
       "      <th>IsVideo</th>\n",
       "      <th>retrieved_utc</th>\n",
       "      <th>updated_utc</th>\n",
       "      <th>utc_datetime_str</th>\n",
       "      <th>AuthorBirthdate</th>\n",
       "      <th>NewURL</th>\n",
       "    </tr>\n",
       "  </thead>\n",
       "  <tbody>\n",
       "  </tbody>\n",
       "</table>\n",
       "</div>"
      ],
      "text/plain": [
       "Empty DataFrame\n",
       "Columns: [Subreddit, PostText, AuthorName, gilded, PostTitle, link_flair_richtext, subreddit_name_prefixed, hidden, pwls, link_flair_css_class, thumbnail_height, top_awarded_type, hide_score, quarantine, link_flair_text_color, UpvoteRatio, author_flair_background_color, subreddit_type, total_awards_received, EmbeddedMedia, thumbnail_width, author_flair_template_id, IsOriginal, SecureMedia, IsRedditMediaDomain, IsMeta, category, SecureEmbeddedMedia, link_flair_text, Upvotes, is_created_from_ads_ui, author_premium, Thumbnail, Edited, author_flair_css_class, author_flair_richtext, gildings, PostHint, content_categories, IsTextPost, link_flair_type, wls, removed_by_category, author_flair_type, ImageDomain, allow_live_comments, suggested_sort, url_overridden_by_dest, ViewCount, archived, no_follow, IsCrosspostable, Pinned, NSFW, Preview, all_awardings, awarders, OnlyMedia, can_gild, spoiler, CommentsLocked, author_flair_text, treatment_tags, removed_by, distinguished, SubredditID, link_flair_background_color, PostID, is_robot_indexable, Username, discussion_type, CommentNumber, send_replies, whitelist_status, contest_mode, author_patreon_flair, author_flair_text_color, Permalink, parent_whitelist_status, Stickied, ImageURL, SubRedditSubscribers, PostTime, CrosspostsNumber, Media, IsVideo, retrieved_utc, updated_utc, utc_datetime_str, AuthorBirthdate, NewURL]\n",
       "Index: []"
      ]
     },
     "execution_count": 42,
     "metadata": {},
     "output_type": "execute_result"
    }
   ],
   "source": [
    "pd.set_option('display.max_colwidth', None)\n",
    "posts_tidy_df"
   ]
  },
  {
   "cell_type": "markdown",
   "metadata": {},
   "source": [
    "#### Save data frame as CSV"
   ]
  },
  {
   "cell_type": "code",
   "execution_count": null,
   "metadata": {},
   "outputs": [],
   "source": [
    "filename = '/Users/clarasofiechristiansen/Documents/Clara/DTU/Data_Fagprojekt/' + subreddit + '_' + search_time + '.csv'\n",
    "posts_tidy_df.to_csv(filename, header=True, index=False, columns=list(posts_tidy_df.axes[1]))"
   ]
  },
  {
   "cell_type": "markdown",
   "metadata": {},
   "source": [
    "#### Save images from URLs"
   ]
  },
  {
   "cell_type": "code",
   "execution_count": null,
   "metadata": {},
   "outputs": [],
   "source": [
    "#Save images from data frame URL column\n",
    "root_folder = '/Users/clarasofiechristiansen/Documents/Clara/DTU/Data_Fagprojekt/'\n",
    "\n",
    "def download(row):\n",
    "   filename = root_folder + subreddit + '_' + row['PostID'] + '.jpg'\n",
    "\n",
    "   # create folder if it doesn't exist\n",
    "   os.makedirs(os.path.dirname(filename), exist_ok = True)\n",
    "\n",
    "   url = row.NewURL\n",
    "\n",
    "   print(f\"Downloading {url} to {filename}\")\n",
    "   r = requests.get(url, allow_redirects=True)\n",
    "   with open(filename, 'wb') as f:\n",
    "       f.write(r.content)\n",
    "\n",
    "try:\n",
    "    posts_tidy_df.apply(download, axis=1)\n",
    "except:\n",
    "    pass"
   ]
  },
  {
   "attachments": {},
   "cell_type": "markdown",
   "metadata": {},
   "source": [
    "## Text cleaning and annotating features"
   ]
  },
  {
   "attachments": {},
   "cell_type": "markdown",
   "metadata": {},
   "source": [
    "> this might be useful later on to create a list of features mentioned in the text for each picture"
   ]
  },
  {
   "cell_type": "markdown",
   "metadata": {},
   "source": [
    "#### Remove brackets and other characters"
   ]
  },
  {
   "cell_type": "code",
   "execution_count": null,
   "metadata": {},
   "outputs": [],
   "source": [
    "posts_clean_df = posts_tidy_df.rename(columns = column_names)\n",
    "posts_clean_df['PostTitle'].replace(to_replace=\"\\[(.*?)\\]\", value=\"\", regex=True, inplace=True) \n",
    "posts_clean_df['PostTitle'].replace(to_replace=\"\\(\\d*?\\s*[\\u00D7?x?]\\s*\\d*?\\)\", value=\"\", regex=True, inplace=True)\n",
    "posts_clean_df['PostTitle'].replace(to_replace=\"\\(\", value=\"\", regex=True, inplace=True)\n",
    "posts_clean_df['PostTitle'].replace(to_replace=\"\\)\", value=\"\", regex=True, inplace=True)\n",
    "posts_clean_df['PostTitle'].replace(to_replace=\"-\", value=\"\", regex=True, inplace=True)"
   ]
  },
  {
   "cell_type": "markdown",
   "metadata": {},
   "source": [
    "#### Load NLP model"
   ]
  },
  {
   "cell_type": "code",
   "execution_count": null,
   "metadata": {},
   "outputs": [
    {
     "name": "stdout",
     "output_type": "stream",
     "text": [
      "Already downloaded a model for the 'en' language\n"
     ]
    }
   ],
   "source": [
    "spacy_udpipe.download(\"en\")\n",
    "nlp = spacy_udpipe.load(\"en\")"
   ]
  },
  {
   "cell_type": "markdown",
   "metadata": {},
   "source": [
    "##### Create new data frame for annotations"
   ]
  },
  {
   "cell_type": "code",
   "execution_count": null,
   "metadata": {},
   "outputs": [],
   "source": [
    "column_names = ['Sentence', 'Text ID', 'IDX', 'Text', 'Lemma', 'POS', 'Form', 'Dependency', 'Sentiment'] \n",
    "posts_annotated_df = pd.DataFrame(columns=column_names)"
   ]
  },
  {
   "cell_type": "markdown",
   "metadata": {},
   "source": [
    "#### Create empty lists to store token values in"
   ]
  },
  {
   "cell_type": "code",
   "execution_count": null,
   "metadata": {},
   "outputs": [],
   "source": [
    "sent = []\n",
    "i = []\n",
    "idx = []\n",
    "word = []\n",
    "lemma = []\n",
    "pos = []\n",
    "tag = []\n",
    "dep = []\n",
    "sentiment = []\n",
    "form = []"
   ]
  },
  {
   "cell_type": "markdown",
   "metadata": {},
   "source": [
    "#### Tokenize post titles"
   ]
  },
  {
   "cell_type": "code",
   "execution_count": null,
   "metadata": {},
   "outputs": [],
   "source": [
    "for index, row in posts_clean_df.iterrows():\n",
    "    text = row['PostTitle']\n",
    "    doc = nlp(text)\n",
    "    for token in doc:\n",
    "        #print('Sentence:' + token.sent)\n",
    "        sent.append(token.sent)\n",
    "        i.append(token.i)\n",
    "        idx.append(token.idx)\n",
    "        word.append(token.text)\n",
    "        lemma.append(token.lemma_)\n",
    "        pos.append(token.pos_)\n",
    "        form.append(token.morph.get(\"VerbForm\"))\n",
    "        tag.append(token.tag_)\n",
    "        dep.append(token.dep_)\n",
    "        sentiment.append(token.sentiment)\n",
    "       "
   ]
  },
  {
   "cell_type": "markdown",
   "metadata": {},
   "source": [
    "#### Add token annotations to data frame"
   ]
  },
  {
   "cell_type": "code",
   "execution_count": null,
   "metadata": {},
   "outputs": [
    {
     "ename": "AttributeError",
     "evalue": "Can only use .str accessor with string values!",
     "output_type": "error",
     "traceback": [
      "\u001b[0;31m---------------------------------------------------------------------------\u001b[0m",
      "\u001b[0;31mAttributeError\u001b[0m                            Traceback (most recent call last)",
      "\u001b[0;32m/var/folders/_6/l3776shn2kq8j4f7hm3qr5bh0000gn/T/ipykernel_1373/1672638992.py\u001b[0m in \u001b[0;36m<module>\u001b[0;34m\u001b[0m\n\u001b[1;32m      8\u001b[0m \u001b[0mposts_annotated_df\u001b[0m\u001b[0;34m[\u001b[0m\u001b[0;34m'IDX'\u001b[0m\u001b[0;34m]\u001b[0m \u001b[0;34m=\u001b[0m \u001b[0midx\u001b[0m\u001b[0;34m\u001b[0m\u001b[0;34m\u001b[0m\u001b[0m\n\u001b[1;32m      9\u001b[0m \u001b[0mposts_annotated_df\u001b[0m\u001b[0;34m[\u001b[0m\u001b[0;34m'Sentiment'\u001b[0m\u001b[0;34m]\u001b[0m \u001b[0;34m=\u001b[0m \u001b[0msentiment\u001b[0m\u001b[0;34m\u001b[0m\u001b[0;34m\u001b[0m\u001b[0m\n\u001b[0;32m---> 10\u001b[0;31m \u001b[0mposts_annotated_df\u001b[0m\u001b[0;34m[\u001b[0m\u001b[0;34m'VerbForm'\u001b[0m\u001b[0;34m]\u001b[0m \u001b[0;34m=\u001b[0m \u001b[0mposts_annotated_df\u001b[0m\u001b[0;34m[\u001b[0m\u001b[0;34m'VerbForm'\u001b[0m\u001b[0;34m]\u001b[0m\u001b[0;34m.\u001b[0m\u001b[0mstr\u001b[0m\u001b[0;34m[\u001b[0m\u001b[0;36m0\u001b[0m\u001b[0;34m]\u001b[0m\u001b[0;34m\u001b[0m\u001b[0;34m\u001b[0m\u001b[0m\n\u001b[0m\u001b[1;32m     11\u001b[0m \u001b[0;34m\u001b[0m\u001b[0m\n\u001b[1;32m     12\u001b[0m \u001b[0mprint\u001b[0m\u001b[0;34m(\u001b[0m\u001b[0mposts_annotated_df\u001b[0m\u001b[0;34m)\u001b[0m\u001b[0;34m\u001b[0m\u001b[0;34m\u001b[0m\u001b[0m\n",
      "\u001b[0;32m~/opt/anaconda3/lib/python3.8/site-packages/pandas/core/generic.py\u001b[0m in \u001b[0;36m__getattr__\u001b[0;34m(self, name)\u001b[0m\n\u001b[1;32m   5573\u001b[0m         ):\n\u001b[1;32m   5574\u001b[0m             \u001b[0;32mreturn\u001b[0m \u001b[0mself\u001b[0m\u001b[0;34m[\u001b[0m\u001b[0mname\u001b[0m\u001b[0;34m]\u001b[0m\u001b[0;34m\u001b[0m\u001b[0;34m\u001b[0m\u001b[0m\n\u001b[0;32m-> 5575\u001b[0;31m         \u001b[0;32mreturn\u001b[0m \u001b[0mobject\u001b[0m\u001b[0;34m.\u001b[0m\u001b[0m__getattribute__\u001b[0m\u001b[0;34m(\u001b[0m\u001b[0mself\u001b[0m\u001b[0;34m,\u001b[0m \u001b[0mname\u001b[0m\u001b[0;34m)\u001b[0m\u001b[0;34m\u001b[0m\u001b[0;34m\u001b[0m\u001b[0m\n\u001b[0m\u001b[1;32m   5576\u001b[0m \u001b[0;34m\u001b[0m\u001b[0m\n\u001b[1;32m   5577\u001b[0m     \u001b[0;32mdef\u001b[0m \u001b[0m__setattr__\u001b[0m\u001b[0;34m(\u001b[0m\u001b[0mself\u001b[0m\u001b[0;34m,\u001b[0m \u001b[0mname\u001b[0m\u001b[0;34m:\u001b[0m \u001b[0mstr\u001b[0m\u001b[0;34m,\u001b[0m \u001b[0mvalue\u001b[0m\u001b[0;34m)\u001b[0m \u001b[0;34m->\u001b[0m \u001b[0;32mNone\u001b[0m\u001b[0;34m:\u001b[0m\u001b[0;34m\u001b[0m\u001b[0;34m\u001b[0m\u001b[0m\n",
      "\u001b[0;32m~/opt/anaconda3/lib/python3.8/site-packages/pandas/core/accessor.py\u001b[0m in \u001b[0;36m__get__\u001b[0;34m(self, obj, cls)\u001b[0m\n\u001b[1;32m    180\u001b[0m             \u001b[0;31m# we're accessing the attribute of the class, i.e., Dataset.geo\u001b[0m\u001b[0;34m\u001b[0m\u001b[0;34m\u001b[0m\u001b[0;34m\u001b[0m\u001b[0m\n\u001b[1;32m    181\u001b[0m             \u001b[0;32mreturn\u001b[0m \u001b[0mself\u001b[0m\u001b[0;34m.\u001b[0m\u001b[0m_accessor\u001b[0m\u001b[0;34m\u001b[0m\u001b[0;34m\u001b[0m\u001b[0m\n\u001b[0;32m--> 182\u001b[0;31m         \u001b[0maccessor_obj\u001b[0m \u001b[0;34m=\u001b[0m \u001b[0mself\u001b[0m\u001b[0;34m.\u001b[0m\u001b[0m_accessor\u001b[0m\u001b[0;34m(\u001b[0m\u001b[0mobj\u001b[0m\u001b[0;34m)\u001b[0m\u001b[0;34m\u001b[0m\u001b[0;34m\u001b[0m\u001b[0m\n\u001b[0m\u001b[1;32m    183\u001b[0m         \u001b[0;31m# Replace the property with the accessor object. Inspired by:\u001b[0m\u001b[0;34m\u001b[0m\u001b[0;34m\u001b[0m\u001b[0;34m\u001b[0m\u001b[0m\n\u001b[1;32m    184\u001b[0m         \u001b[0;31m# https://www.pydanny.com/cached-property.html\u001b[0m\u001b[0;34m\u001b[0m\u001b[0;34m\u001b[0m\u001b[0;34m\u001b[0m\u001b[0m\n",
      "\u001b[0;32m~/opt/anaconda3/lib/python3.8/site-packages/pandas/core/strings/accessor.py\u001b[0m in \u001b[0;36m__init__\u001b[0;34m(self, data)\u001b[0m\n\u001b[1;32m    175\u001b[0m         \u001b[0;32mfrom\u001b[0m \u001b[0mpandas\u001b[0m\u001b[0;34m.\u001b[0m\u001b[0mcore\u001b[0m\u001b[0;34m.\u001b[0m\u001b[0marrays\u001b[0m\u001b[0;34m.\u001b[0m\u001b[0mstring_\u001b[0m \u001b[0;32mimport\u001b[0m \u001b[0mStringDtype\u001b[0m\u001b[0;34m\u001b[0m\u001b[0;34m\u001b[0m\u001b[0m\n\u001b[1;32m    176\u001b[0m \u001b[0;34m\u001b[0m\u001b[0m\n\u001b[0;32m--> 177\u001b[0;31m         \u001b[0mself\u001b[0m\u001b[0;34m.\u001b[0m\u001b[0m_inferred_dtype\u001b[0m \u001b[0;34m=\u001b[0m \u001b[0mself\u001b[0m\u001b[0;34m.\u001b[0m\u001b[0m_validate\u001b[0m\u001b[0;34m(\u001b[0m\u001b[0mdata\u001b[0m\u001b[0;34m)\u001b[0m\u001b[0;34m\u001b[0m\u001b[0;34m\u001b[0m\u001b[0m\n\u001b[0m\u001b[1;32m    178\u001b[0m         \u001b[0mself\u001b[0m\u001b[0;34m.\u001b[0m\u001b[0m_is_categorical\u001b[0m \u001b[0;34m=\u001b[0m \u001b[0mis_categorical_dtype\u001b[0m\u001b[0;34m(\u001b[0m\u001b[0mdata\u001b[0m\u001b[0;34m.\u001b[0m\u001b[0mdtype\u001b[0m\u001b[0;34m)\u001b[0m\u001b[0;34m\u001b[0m\u001b[0;34m\u001b[0m\u001b[0m\n\u001b[1;32m    179\u001b[0m         \u001b[0mself\u001b[0m\u001b[0;34m.\u001b[0m\u001b[0m_is_string\u001b[0m \u001b[0;34m=\u001b[0m \u001b[0misinstance\u001b[0m\u001b[0;34m(\u001b[0m\u001b[0mdata\u001b[0m\u001b[0;34m.\u001b[0m\u001b[0mdtype\u001b[0m\u001b[0;34m,\u001b[0m \u001b[0mStringDtype\u001b[0m\u001b[0;34m)\u001b[0m\u001b[0;34m\u001b[0m\u001b[0;34m\u001b[0m\u001b[0m\n",
      "\u001b[0;32m~/opt/anaconda3/lib/python3.8/site-packages/pandas/core/strings/accessor.py\u001b[0m in \u001b[0;36m_validate\u001b[0;34m(data)\u001b[0m\n\u001b[1;32m    229\u001b[0m \u001b[0;34m\u001b[0m\u001b[0m\n\u001b[1;32m    230\u001b[0m         \u001b[0;32mif\u001b[0m \u001b[0minferred_dtype\u001b[0m \u001b[0;32mnot\u001b[0m \u001b[0;32min\u001b[0m \u001b[0mallowed_types\u001b[0m\u001b[0;34m:\u001b[0m\u001b[0;34m\u001b[0m\u001b[0;34m\u001b[0m\u001b[0m\n\u001b[0;32m--> 231\u001b[0;31m             \u001b[0;32mraise\u001b[0m \u001b[0mAttributeError\u001b[0m\u001b[0;34m(\u001b[0m\u001b[0;34m\"Can only use .str accessor with string values!\"\u001b[0m\u001b[0;34m)\u001b[0m\u001b[0;34m\u001b[0m\u001b[0;34m\u001b[0m\u001b[0m\n\u001b[0m\u001b[1;32m    232\u001b[0m         \u001b[0;32mreturn\u001b[0m \u001b[0minferred_dtype\u001b[0m\u001b[0;34m\u001b[0m\u001b[0;34m\u001b[0m\u001b[0m\n\u001b[1;32m    233\u001b[0m \u001b[0;34m\u001b[0m\u001b[0m\n",
      "\u001b[0;31mAttributeError\u001b[0m: Can only use .str accessor with string values!"
     ]
    }
   ],
   "source": [
    "posts_annotated_df['Sentence'] = sent\n",
    "posts_annotated_df['Text ID'] = i\n",
    "posts_annotated_df['Text'] = word\n",
    "posts_annotated_df['Lemma'] = lemma\n",
    "posts_annotated_df['POS'] = pos\n",
    "posts_annotated_df['VerbForm'] = form\n",
    "posts_annotated_df['Dependency'] = dep\n",
    "posts_annotated_df['IDX'] = idx\n",
    "posts_annotated_df['Sentiment'] = sentiment\n",
    "posts_annotated_df['VerbForm'] = posts_annotated_df['VerbForm'].str[0]\n",
    "\n",
    "print(posts_annotated_df)"
   ]
  },
  {
   "cell_type": "markdown",
   "metadata": {},
   "source": [
    "##### Save annotations as CSV"
   ]
  },
  {
   "cell_type": "code",
   "execution_count": null,
   "metadata": {},
   "outputs": [],
   "source": [
    "filename = '/Users/clarasofiechristiansen/Documents/Clara/DTU/Data_Fagprojekt/' + subreddit + '_' + search_time + '.csv'\n",
    "posts_annotated_df.to_csv(filename, header=True, index=False, columns=list(posts_annotated_df.axes[1]))"
   ]
  },
  {
   "cell_type": "markdown",
   "metadata": {},
   "source": [
    "### Find features"
   ]
  },
  {
   "cell_type": "markdown",
   "metadata": {},
   "source": [
    "#### Filter for nouns"
   ]
  },
  {
   "cell_type": "code",
   "execution_count": null,
   "metadata": {},
   "outputs": [],
   "source": [
    "nouns_df = posts_annotated_df[posts_annotated_df['POS'].str.contains(\"NOUN|PROPNOUN\")]\n",
    "features_df = nouns_df[nouns_df['Dependency'].str.contains('ROOT')]"
   ]
  },
  {
   "cell_type": "markdown",
   "metadata": {},
   "source": [
    "#### Create list with features"
   ]
  },
  {
   "cell_type": "code",
   "execution_count": null,
   "metadata": {},
   "outputs": [],
   "source": [
    "features_list = features_df['Text'].tolist()"
   ]
  },
  {
   "cell_type": "markdown",
   "metadata": {},
   "source": [
    "#### Create data frame with features and subreddit name"
   ]
  },
  {
   "cell_type": "code",
   "execution_count": null,
   "metadata": {},
   "outputs": [],
   "source": [
    "CES_features = pd.DataFrame()\n",
    "CES_features['Features'] = features_list\n",
    "CES_features['Subreddit'] = subreddit"
   ]
  },
  {
   "cell_type": "markdown",
   "metadata": {},
   "source": [
    "#### Save features as CSV"
   ]
  },
  {
   "cell_type": "code",
   "execution_count": null,
   "metadata": {},
   "outputs": [
    {
     "ename": "NameError",
     "evalue": "name 'All_CES_features_updated' is not defined",
     "output_type": "error",
     "traceback": [
      "\u001b[0;31m---------------------------------------------------------------------------\u001b[0m",
      "\u001b[0;31mNameError\u001b[0m                                 Traceback (most recent call last)",
      "\u001b[0;32m/var/folders/_6/l3776shn2kq8j4f7hm3qr5bh0000gn/T/ipykernel_1626/3421509030.py\u001b[0m in \u001b[0;36m<module>\u001b[0;34m\u001b[0m\n\u001b[0;32m----> 1\u001b[0;31m \u001b[0mAll_CES_features_updated\u001b[0m\u001b[0;34m.\u001b[0m\u001b[0mto_csv\u001b[0m\u001b[0;34m(\u001b[0m\u001b[0mfeatures_filename\u001b[0m\u001b[0;34m,\u001b[0m \u001b[0mheader\u001b[0m\u001b[0;34m=\u001b[0m\u001b[0;32mTrue\u001b[0m\u001b[0;34m,\u001b[0m \u001b[0mindex\u001b[0m\u001b[0;34m=\u001b[0m\u001b[0;32mFalse\u001b[0m\u001b[0;34m,\u001b[0m \u001b[0mcolumns\u001b[0m\u001b[0;34m=\u001b[0m\u001b[0mlist\u001b[0m\u001b[0;34m(\u001b[0m\u001b[0mAll_CES_features_updated\u001b[0m\u001b[0;34m.\u001b[0m\u001b[0maxes\u001b[0m\u001b[0;34m[\u001b[0m\u001b[0;36m1\u001b[0m\u001b[0;34m]\u001b[0m\u001b[0;34m)\u001b[0m\u001b[0;34m)\u001b[0m\u001b[0;34m\u001b[0m\u001b[0;34m\u001b[0m\u001b[0m\n\u001b[0m",
      "\u001b[0;31mNameError\u001b[0m: name 'All_CES_features_updated' is not defined"
     ]
    }
   ],
   "source": [
    "#All_CES_features_updated.to_csv(features_filename, header=True, index=False, columns=list(All_CES_features_updated.axes[1]))"
   ]
  },
  {
   "cell_type": "code",
   "execution_count": null,
   "metadata": {},
   "outputs": [],
   "source": [
    "filename = '/Users/clarasofiechristiansen/Documents/Clara/DTU/Data_Fagprojekt/CES_features.csv'\n",
    "CES_features.to_csv(filename, header=True, index=False, columns=list(CES_features.axes[1]))"
   ]
  }
 ],
 "metadata": {
  "kernelspec": {
   "display_name": "base",
   "language": "python",
   "name": "python3"
  },
  "language_info": {
   "codemirror_mode": {
    "name": "ipython",
    "version": 3
   },
   "file_extension": ".py",
   "mimetype": "text/x-python",
   "name": "python",
   "nbconvert_exporter": "python",
   "pygments_lexer": "ipython3",
   "version": "3.8.8"
  },
  "orig_nbformat": 4,
  "vscode": {
   "interpreter": {
    "hash": "7e72dc716a2bd425324453c97c2b8947a785d2226ed6529ecf290c1667854818"
   }
  }
 },
 "nbformat": 4,
 "nbformat_minor": 2
}
