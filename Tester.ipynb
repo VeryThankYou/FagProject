{
 "cells": [
  {
   "cell_type": "code",
   "execution_count": 12,
   "metadata": {},
   "outputs": [],
   "source": [
    "import pandas as pd\n",
    "from pmaw import PushshiftAPI"
   ]
  },
  {
   "cell_type": "code",
   "execution_count": 13,
   "metadata": {},
   "outputs": [],
   "source": [
    "api = PushshiftAPI()"
   ]
  },
  {
   "cell_type": "code",
   "execution_count": 15,
   "metadata": {},
   "outputs": [],
   "source": [
    "def data_prep_posts(subreddit, filters, limit):\n",
    "    if(len(filters) == 0):\n",
    "        filters = ['id', 'author', 'created_utc',\n",
    "                   'domain', 'url',\n",
    "                   'title', 'num_comments']                 \n",
    "                   #We set by default some useful columns\n",
    "\n",
    "    posts = list(api.search_submissions(\n",
    "        subreddit=subreddit,   #Subreddit we want to audit\n",
    "       #End date\n",
    "        filter=filters,        #Column names we want to retrieve\n",
    "        limit=limit))          ##Max number of posts\n",
    "\n",
    "    return pd.DataFrame(posts) #Return dataframe for analysis\n"
   ]
  },
  {
   "cell_type": "code",
   "execution_count": 16,
   "metadata": {},
   "outputs": [],
   "source": [
    "df_p = data_prep_posts(\"EarthPorn\", [],limit = 500) \n"
   ]
  },
  {
   "cell_type": "code",
   "execution_count": 18,
   "metadata": {},
   "outputs": [
    {
     "name": "stdout",
     "output_type": "stream",
     "text": [
      "500\n",
      "497\n"
     ]
    }
   ],
   "source": [
    "test = df_p[\"url\"]\n",
    "print(len(test))\n",
    "print(len(test.drop_duplicates()))"
   ]
  },
  {
   "cell_type": "code",
   "execution_count": 19,
   "metadata": {},
   "outputs": [],
   "source": [
    "df_new = pd.concat(g for _, g in df_p.groupby(\"url\") if len(g) > 1)"
   ]
  },
  {
   "cell_type": "code",
   "execution_count": 20,
   "metadata": {},
   "outputs": [
    {
     "data": {
      "text/html": [
       "<div>\n",
       "<style scoped>\n",
       "    .dataframe tbody tr th:only-of-type {\n",
       "        vertical-align: middle;\n",
       "    }\n",
       "\n",
       "    .dataframe tbody tr th {\n",
       "        vertical-align: top;\n",
       "    }\n",
       "\n",
       "    .dataframe thead th {\n",
       "        text-align: right;\n",
       "    }\n",
       "</style>\n",
       "<table border=\"1\" class=\"dataframe\">\n",
       "  <thead>\n",
       "    <tr style=\"text-align: right;\">\n",
       "      <th></th>\n",
       "      <th>title</th>\n",
       "      <th>domain</th>\n",
       "      <th>id</th>\n",
       "      <th>author</th>\n",
       "      <th>num_comments</th>\n",
       "      <th>url</th>\n",
       "      <th>created_utc</th>\n",
       "    </tr>\n",
       "  </thead>\n",
       "  <tbody>\n",
       "    <tr>\n",
       "      <th>141</th>\n",
       "      <td>Max Rive's Aurora Borealis, Lofoten, Norway [3...</td>\n",
       "      <td></td>\n",
       "      <td>zuhph7</td>\n",
       "      <td>[deleted]</td>\n",
       "      <td>1</td>\n",
       "      <td></td>\n",
       "      <td>1671912673</td>\n",
       "    </tr>\n",
       "    <tr>\n",
       "      <th>200</th>\n",
       "      <td>Alpine Meadow, Idaho. [OC] [1638x2048]</td>\n",
       "      <td></td>\n",
       "      <td>10po4gw</td>\n",
       "      <td>[deleted]</td>\n",
       "      <td>1</td>\n",
       "      <td></td>\n",
       "      <td>1675138503</td>\n",
       "    </tr>\n",
       "    <tr>\n",
       "      <th>247</th>\n",
       "      <td>Zion National Park [3024 x 4032][OC]</td>\n",
       "      <td></td>\n",
       "      <td>10pa0ju</td>\n",
       "      <td>[deleted]</td>\n",
       "      <td>1</td>\n",
       "      <td></td>\n",
       "      <td>1675103328</td>\n",
       "    </tr>\n",
       "    <tr>\n",
       "      <th>345</th>\n",
       "      <td>Grand Canyon of the Yellowstone, Yellowstone N...</td>\n",
       "      <td>i.imgur.com</td>\n",
       "      <td>11levj6</td>\n",
       "      <td>SaltLakeCitySlicker</td>\n",
       "      <td>1</td>\n",
       "      <td>https://i.imgur.com/8x8AHAM.jpeg</td>\n",
       "      <td>1678230903</td>\n",
       "    </tr>\n",
       "    <tr>\n",
       "      <th>396</th>\n",
       "      <td>Grand Canyon of The Yellowstone</td>\n",
       "      <td>i.imgur.com</td>\n",
       "      <td>11l03nl</td>\n",
       "      <td>SaltLakeCitySlicker</td>\n",
       "      <td>1</td>\n",
       "      <td>https://i.imgur.com/8x8AHAM.jpeg</td>\n",
       "      <td>1678197610</td>\n",
       "    </tr>\n",
       "  </tbody>\n",
       "</table>\n",
       "</div>"
      ],
      "text/plain": [
       "                                                 title       domain       id  \\\n",
       "141  Max Rive's Aurora Borealis, Lofoten, Norway [3...                zuhph7   \n",
       "200             Alpine Meadow, Idaho. [OC] [1638x2048]               10po4gw   \n",
       "247               Zion National Park [3024 x 4032][OC]               10pa0ju   \n",
       "345  Grand Canyon of the Yellowstone, Yellowstone N...  i.imgur.com  11levj6   \n",
       "396                    Grand Canyon of The Yellowstone  i.imgur.com  11l03nl   \n",
       "\n",
       "                  author  num_comments                               url  \\\n",
       "141            [deleted]             1                                     \n",
       "200            [deleted]             1                                     \n",
       "247            [deleted]             1                                     \n",
       "345  SaltLakeCitySlicker             1  https://i.imgur.com/8x8AHAM.jpeg   \n",
       "396  SaltLakeCitySlicker             1  https://i.imgur.com/8x8AHAM.jpeg   \n",
       "\n",
       "     created_utc  \n",
       "141   1671912673  \n",
       "200   1675138503  \n",
       "247   1675103328  \n",
       "345   1678230903  \n",
       "396   1678197610  "
      ]
     },
     "execution_count": 20,
     "metadata": {},
     "output_type": "execute_result"
    }
   ],
   "source": [
    "df_new"
   ]
  },
  {
   "cell_type": "code",
   "execution_count": 21,
   "metadata": {},
   "outputs": [
    {
     "data": {
      "text/plain": [
       "5"
      ]
     },
     "execution_count": 21,
     "metadata": {},
     "output_type": "execute_result"
    }
   ],
   "source": [
    "len(df_new)"
   ]
  }
 ],
 "metadata": {
  "kernelspec": {
   "display_name": "base",
   "language": "python",
   "name": "python3"
  },
  "language_info": {
   "codemirror_mode": {
    "name": "ipython",
    "version": 3
   },
   "file_extension": ".py",
   "mimetype": "text/x-python",
   "name": "python",
   "nbconvert_exporter": "python",
   "pygments_lexer": "ipython3",
   "version": "3.8.8"
  },
  "orig_nbformat": 4,
  "vscode": {
   "interpreter": {
    "hash": "7e72dc716a2bd425324453c97c2b8947a785d2226ed6529ecf290c1667854818"
   }
  }
 },
 "nbformat": 4,
 "nbformat_minor": 2
}
